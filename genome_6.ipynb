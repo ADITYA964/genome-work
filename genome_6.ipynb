{
  "nbformat": 4,
  "nbformat_minor": 0,
  "metadata": {
    "colab": {
      "name": "5-12-2020 genome.ipynb",
      "provenance": [],
      "collapsed_sections": []
    },
    "kernelspec": {
      "name": "python3",
      "display_name": "Python 3"
    }
  },
  "cells": [
    {
      "cell_type": "code",
      "metadata": {
        "id": "qF4RZEUTEanI"
      },
      "source": [
        "import gzip \n",
        "from numpy.random import choice\n",
        "import numpy as np \n",
        "import time\n",
        "import tracemalloc"
      ],
      "execution_count": null,
      "outputs": []
    },
    {
      "cell_type": "code",
      "metadata": {
        "id": "Y1-FphdLEomf"
      },
      "source": [
        "def consume_cpu_ram(n): return np.ones((n, n))\n",
        "def consume_cpu_ram_128mb(): return consume_cpu_ram(2**12)"
      ],
      "execution_count": null,
      "outputs": []
    },
    {
      "cell_type": "code",
      "metadata": {
        "id": "EE8JN8TREqfk"
      },
      "source": [
        "z = [consume_cpu_ram_128mb() for i in range(8)] # 1GB\n",
        "del z\n",
        "tracemalloc.start()\n",
        "a1 = consume_cpu_ram_128mb()\n",
        "a2 = consume_cpu_ram_128mb()\n",
        "del a1"
      ],
      "execution_count": null,
      "outputs": []
    },
    {
      "cell_type": "code",
      "metadata": {
        "id": "XjEWlE0JEtdk"
      },
      "source": [
        "a='''   1 gatttaagtg aatagcttgg ctatctcact tcccctcgtt ctcttgcaga actttgattt\n",
        "       61 taacgaactt aaataaaagc cctgttgttt agcgtattgt tgcacttgtc tggtgggatt\n",
        "      121 gtggcattaa tttgcctgct catctaggca gtggacatat gctcaacact gggtataatt\n",
        "      181 ctaattgaat actatttttc agttagagcg tcgtgtctct tgtacgtctc ggtcacaata\n",
        "      241 cacggtttcg tccggtgcgt ggcaattcgg ggcacatcat gtctttcgtg gctggtgtga\n",
        "      301 ccgcgcaagg tgcgcgcggt acgtatcgag cagcgctcaa ctctgaaaaa catcaagacc\n",
        "      361 atgtgtctct aactgtgcca ctctgtggtt caggaaacct ggttgaaaaa ctttcaccat\n",
        "      421 ggttcatgga tggcgaaaat gcctatgaag tggtgaaggc catgttactt aaaaaggagc\n",
        "      481 cacttctcta tgtgcccatc cggctggctg gacacactag acacctccca ggtcctcgtg\n",
        "      541 tatacctggt tgagaggctc attgcttgtg aaaatccatt catggttaac caattggctt\n",
        "      601 atagctctag tgcaaatggc agcttggttg gcacaatttt gcagggcaag cctattggta\n",
        "      661 tgttcttccc ttatgacatc gaacttgtca caggaaagca aaatattctc ctgcgcaagt\n",
        "      721 atggccgtgg tggttaccac tacaccccat tccactatga gcgagacaac acctcttgcc\n",
        "      781 ctgagtggat ggacgatttt gaggcggatc ctaaaggcaa atatgcccag aatctgctta\n",
        "      841 agaagttgat tggcggtgat gtcactccag ttgaccaata catgtgtggc gttgatggaa\n",
        "      901 aacccattag tgcctacgca tttttaatgg ccaaggatgg aataaccaaa ctggctgatg\n",
        "      961 ttgaagcgga cgtcgcagca cgtgctgatg acgaaggctt catcacatta aagaacaatc\n",
        "     1021 tatatagatt ggtttggcat gttgagcgta aagacgttcc atatcctaag caatctattt\n",
        "     1081 ttactattaa tagtgtggtc caaaaggatg gtgttgaaaa cactcctcct cactatttta\n",
        "     1141 ctcttggatg caaaatttta acgctcaccc cacgcaacaa gtggagtggc gtttctgact\n",
        "     1201 tgtccctcaa acaaaaactc ctttacacct tctatggtaa ggagtcactt gagaacccaa\n",
        "     1261 cctacattta ccactccgca ttcattgagt gtggaagttg tggtaatgat tcctggctta\n",
        "     1321 cagggaatgc tatccaaggg tttgcctgtg gatgtggggc atcatataca gctaatgatg\n",
        "     1381 tcgaagtcca atcatctggc atgattaagc caaatgctct tctttgtgct acttgcccct\n",
        "     1441 ttgctaaggg tgatagctgt tcttctaatt gcaaacattc agttgctcag ttggttagtt\n",
        "     1501 acctttctga acgttgtaat gttattgctg attctaagtc cttcacactt atctttggtg\n",
        "     1561 gcgtagctta cgcctacttt ggatgtgagg aaggtactat gtactttgtg cctagagcta\n",
        "     1621 agtctgttgt ctcaaggatt ggagactcca tctttacagg ctgtactggc tcttggaaca\n",
        "     1681 aggtcactca aattgctaac atgttcttgg aacagactca gcattccctt aactttgtgg\n",
        "     1741 gagagttcgt tgtcaacgat gttgtcctcg caattctctc tggaaccaca actaatgttg\n",
        "     1801 acaaaatacg ccagcttctc aaaggtgtca cccttgacaa gttgcgtgat tatttagctg\n",
        "     1861 actatgacgt agcagtcact gccggcccat tcatggataa tgctattaat gttggtggta\n",
        "     1921 caggattaca gtatgccgcc attactgcac cttatgtagt tctcactggc ttaggtgagt\n",
        "     1981 cctttaagaa agttgcaacc ataccgtaca aggtttgcaa ctctgttaag gatactctga\n",
        "     2041 cttattatgc tcacagcgtg ttgtacagag tttttcctta tgacatggat tctggtgtgt\n",
        "     2101 catcctttag tgaactactt tttgattgcg ttgatctttc agtagcttct acctattttt\n",
        "     2161 tagtccgcct cttgcaagat aagactggcg actttatgtc tacaattatt acttcctgcc\n",
        "     2221 aaactgctgt tagtaagctt ctagatacat gttttgaagc tacagaagca acatttaact\n",
        "     2281 tcttgttaga tttggcagga ttgttcagaa tctttcttcg caatgcctat gtgtacactt\n",
        "     2341 cacaagggtt tgtggtggtc aatggcaaag tttctacact tgtcaaacaa gtgttagact\n",
        "     2401 tgcttaataa gggtatgcaa cttttgcata caaaggtctc ctgggctggt tctaatatca\n",
        "     2461 gtgctgttat ctacagcggc agggagtctt taatattccc atcgggaacc tattactgtg\n",
        "     2521 tcaccactaa ggctaagtcc gttcaacaag atcttgacgt tattttgcct ggtgagtttt\n",
        "     2581 ccaagaagca gttaggactg ctccaaccta ctgacaattc tacaactgtt agtgttactg\n",
        "     2641 tatccagtaa catggttgaa actgttgtgg gtcaacttga gcaaactaat atgcatagtc\n",
        "     2701 ctgatgttat agtaggtgac tatgtcatta ttagtgaaaa attgtttgtg cgtagtaagg\n",
        "     2761 aagaagacgg atttgccttc taccctgctt gcactaatgg tcatgctgta ccgactctct\n",
        "     2821 ttagacttaa gggaggtgca cctgtaaaaa aagtagcctt tggcggtgat caagtacatg\n",
        "     2881 aggttgctgc tgtaagaagt gttactgtcg agtacaacat tcatgctgta ttagacacac\n",
        "     2941 tacttgcttc ttctagtctt agaacctttg ttgtagataa gtctttgtca attgaggagt\n",
        "     3001 ttgctgacgt agtaaaggaa caagtctcag acttgcttgt taaattactg cgtggaatgc\n",
        "     3061 cgattccaga ttttgattta gacgatttta ttgacgcacc atgctattgc tttaacgctg\n",
        "     3121 agggtgatgc atcttggtct tctactatga tcttctctct tcaccccgtc gagtgtgacg\n",
        "     3181 aggagtgttc tgaagtagag gcttcagatt tagaagaagg tgaatcagag tgcatttctg\n",
        "     3241 agacttcaac tgaacaagtt gacgtttctc atgagatttc tgacgacgag tgggctgctg\n",
        "     3301 cagttgatga agcgttccct ctcgatgaag cagaagatgt tactgaatct gtgcaagaag\n",
        "     3361 aagcacaacc agtagaagta cctgttgaag atattgcgca ggttgtcata gctgacacct\n",
        "     3421 tacaggaaac tcctgttgtg tctgatactg ttgaagtccc accgcaagtg gtgaaacttc\n",
        "     3481 cgtctgaacc tcagactatc cagcccgagg taaaagaagt tgcacctgtc tatgaggctg\n",
        "     3541 ataccgaaca gacacagagt gttactgtta aacctaagag gttacgcaaa aagcgtaatg\n",
        "     3601 ttgacccttt gtccaatttt gaacataagg ttattacaga gtgcgttacc atagttttag\n",
        "     3661 gtgacgcaat tcaagtagcc aagtgctatg gtgagtctgt gttagttaat gctgctaaca\n",
        "     3721 cacatcttaa gcatggcggt ggtatcgctg gtgctattaa tgcggcttca aaaggggctg\n",
        "     3781 tccaaaaaga gtcagatgag tatattctgg ctaaagggcc gttacaagta ggagattcag\n",
        "     3841 ttctcttgca aggccattct ctagctaaga atatcctgca tgtcgtaggc ccagatgccc\n",
        "     3901 gcgctaaaca ggatgtttct ctccttagta agtgctataa ggctatgaat gcatatcctc\n",
        "     3961 ttgtagtcac tcctcttgtt tcagcaggca tatttggtgt aaaaccagct gtgtcttttg\n",
        "     4021 attatcttat tagagaggct aagactagag ttttagtcgt cgttaattcc caagatgtct\n",
        "     4081 ataagagtct taccatagtt gacattccac agagtttgac tttttcatat gatgggttac\n",
        "     4141 gtggcgcaat acgtaaagct aaagattatg gttttactgt ttttgtgtgc acagacaact\n",
        "     4201 ctgctaacac taaagttctt aggaacaagg gtgttgatta tactaagaag tttcttacag\n",
        "     4261 ttgacggtgt gcaatattat tgctacacgt ctaaggacac tttagatgat atcttacaac\n",
        "     4321 aggctaataa gtctgttggt attatatcta tgcctttggg atatgtgtct catggtttag\n",
        "     4381 acttaattca agcagggagt gtcgtgcgta gagttaacgt gccctacgtg tgtctcctag\n",
        "     4441 ctaataaaga gcaagaagct attttgatgt ctgaagacgt taagttaaac ccttcagaag\n",
        "     4501 attttataaa gcacgtccgc actaatggtg gttacaattc ttggcattta gtcgagggtg\n",
        "     4561 aactattggt gcaagactta cgcttaaata agctcctgca ttggtctgat caaaccatat\n",
        "     4621 gctacaagga tagtgtgttt tatgttgtaa agaatagtac agcttttcca tttgaaacac\n",
        "     4681 tttcagcatg tcgtgcgtat ttggattcac gcacgacaca gcagttaaca atcgaagtct\n",
        "     4741 tagtgactgt cgatggtgta aattttagaa cagtcgttct aaataataag aacacttata\n",
        "     4801 gatcacagct tggatgcgtt ttctttaatg gtgctgatat ttctgatacc attcctgatg\n",
        "     4861 agaaacagaa tggtcacagt ttatatctag cagacaattt gactgctgat gaaacaaagg\n",
        "     4921 cgcttaaaga gttatatggc cccgttgatc ctactttctt acacagattc tattcactta\n",
        "     4981 aggctgcagt ccataagtgg aagatggttg tgtgtgataa ggtacgttct ctcaaattga\n",
        "     5041 gtgataataa ttgttatctt aatgcagtta ttatgacact tgatttattg aaggacatta\n",
        "     5101 aatttgttat acctgctcta cagcatgcat ttatgaaaca taagggcggt gattcaactg\n",
        "     5161 acttcatagc cctcattatg gcttatggca attgcacatt tggtgctcca gatgatgcct\n",
        "     5221 ctcggttact tcataccgtg cttgcaaagg ctgagttatg ctgttctgca cgcatggttt\n",
        "     5281 ggagagagtg gtgcaatgtc tgtggcataa aagatgttgt tctacaaggc ttaaaagctt\n",
        "     5341 gttgttacgt gggtgtgcaa actgttgaag atctgcgtgc tcgcatgaca tatgtatgcc\n",
        "     5401 agtgtggtgg tgaacgtcat cggcaaatag tcgaacacac caccccctgg ttgctgctct\n",
        "     5461 caggcacacc aaatgaaaaa ttggtgacaa cctccacggc gcctgatttt gtagcgttta\n",
        "     5521 atgtctttca gggcattgaa acggctgttg gccattatgt tcatgctcgc ctgaagggtg\n",
        "     5581 gtcttatttt aaagtttgac tctggcaccg ttagcaagac ttcagactgg aagtgcaagg\n",
        "     5641 tgacagatgt acttttctcc ggccaaaaat acagtagcga ttgtaatgtc gtacggtatt\n",
        "     5701 ctttggacgg taatttcaga acagaggttg atcccgacct atctgctttc tatgttaagg\n",
        "     5761 atggtaaata ctttacaagt gaaccacccg taacatattc accagctaca attttagctg\n",
        "     5821 gtagtgtcta cactaatagc tgccttgtat cgtctgatgg acaacctggc ggtgatgcta\n",
        "     5881 ttagtttgag ttttaataac cttttagggt ttgattctag taaaccagtc actaagaaat\n",
        "     5941 acacttactc cttcttgcct aaagaagacg gcgatgtgtt gttggctgag tttgacactt\n",
        "     6001 atgaccctat ttataagaat ggtgccatgt ataaaggcaa accaattctt tgggtcaaca\n",
        "     6061 aagcatctta tgatactaat cttaataagt tcaatagagc tagtttgcgt caaatttttg\n",
        "     6121 acgtagcccc cattgaactc gaaaataaat tcacaccttt gagtgtggag tctacaccag\n",
        "     6181 ttgaacctcc aactgtagat gtggtagcac ttcaacagga aatgacaatt gtcaaatgta\n",
        "     6241 agggtttaaa taaacctttc gtgaaggaca atgtcagttt cgttgctgat gactcaggta\n",
        "     6301 ctcccgttgt tgagtatctg tctaaagaag atctacatac attgtatgta gaccctaagt\n",
        "     6361 atcaagtcat tgtcttaaaa gacaatgtac tttcttctat gcttagattg cacaccgttg\n",
        "     6421 agtcaggtga tattaacgtt gttgcagctt ccggatcttt gacacgtaaa gtgaaattac\n",
        "     6481 tatttagggc ttcattttat ttcaaagaat ttgctacccg cactttcact gctaccactg\n",
        "     6541 ctgtaggtag ttgtataaag agtgtagtgc ggcatctagg tgttactaaa ggcatattga\n",
        "     6601 caggctgttt tagttttgtc aagatgttat ttatgcttcc actagcttac tttagtgatt\n",
        "     6661 caaaactcgg caccacagag gttaaagtga gtgctttgaa aacagctggc gttgtgacag\n",
        "     6721 gtaatgttgt aaaacagtgt tgcactgctg ctgttgattt aagtatggat aagttgcgcc\n",
        "     6781 gtgtggattg gaaatcaacc ctacggttgt tacttatgtt atgcacaact atggtattgt\n",
        "     6841 tgtcttctgt gtatcacttg tatgtcttca atcaggtctt atcaagtgat gttatgtttg\n",
        "     6901 aagatgccca aggtttgaaa aagttctaca aagaagttag agcttaccta ggaatctctt\n",
        "     6961 ctgcttgtga cggtcttgct tcagcttata gggcgaattc ctttgatgta cctacattct\n",
        "     7021 gcgcaaaccg ttctgcaatg tgtaattggt gcttgattag ccaagattcc ataactcact\n",
        "     7081 acccagctct taagatggtt caaacacatc ttagccacta tgttcttaac atagattggt\n",
        "     7141 tgtggtttgc atttgagact ggtttggcat acatgctcta tacctcggcc ttcaactggt\n",
        "     7201 tgttgttggc aggtacattg cattatttct ttgcacagac ttccatattt gtagactggc\n",
        "     7261 ggtcatacaa ttatgctgtg tctagtgcct tctggttatt cacccacatt ccaatggcgg\n",
        "     7321 gtttggtacg aatgtataat ttgttagcat gcctttggct tttacgcaag ttttatcagc\n",
        "     7381 atgtaatcaa tggttgcaaa gatacggcat gcttgctctg ctataagagg aaccgactta\n",
        "     7441 ctagagttga agcttctacc gttgtctgtg gtggaaaacg tacgttttat atcacagcaa\n",
        "     7501 atggcggtat ttcattctgt cgtaggcata attggaattg tgtggattgt gacactgcag\n",
        "     7561 gtgtggggaa taccttcatc tgtgaagaag tcgcaaatga cctcactacc gccctacgca\n",
        "     7621 ggcctattaa cgctacggat agatcacatt attatgtgga ttccgttaca gttaaagaga\n",
        "     7681 ctgttgttca gtttaattat cgtagagacg gtcaaccatt ctacgagcgg tttcccctct\n",
        "     7741 gcgcttttac aaatctagat aagttgaagt tcaaagaggt ctgtaaaact actactggta\n",
        "     7801 tacctgaata caactttatc atctacgact catcagatcg tggccaggaa agtttagcta\n",
        "     7861 ggtctgcatg tgtttattat tctcaagtct tgtgtaaatc aattcttttg gttgactcaa\n",
        "     7921 gtttggttac ttctgttggt gattctagtg aaatcgccac taaaatgttt gattcctttg\n",
        "     7981 ttaatagttt cgtctcgctg tataatgtca cacgcgataa gttggaaaaa cttatctcta\n",
        "     8041 ctgctcgtga tggcgtaagg cgaggcgata acttccatag tgtcttaaca acattcattg\n",
        "     8101 acgcagcacg aggccccgca ggtgtggagt ctgatgttga gaccaatgaa attgttgact\n",
        "     8161 ctgtgcagta tgctcataaa catgacatac aaattactaa tgagagttac aataattatg\n",
        "     8221 taccctcata tgttaaacct gatagtgtgt ctaccagtga tttaggtagt ctcattgatt\n",
        "     8281 gtaatgcggc ttcagttaac caaattgtct tgcgtaattc taatggtgct tgtatttgga\n",
        "     8341 acgctgctgc atatatgaaa ctctcggatg cacttaaacg acagattcgc attgcatgcc\n",
        "     8401 gtaagtgtaa tttagctttc cggttaacca cctcaaagct acgcgctaat gataatatct\n",
        "     8461 tatcagttag attcactgct aacaaaattg ttggtggtgc tcctacatgg tttaatgcgt\n",
        "     8521 tgcgtgactt tacgttaaag ggttacgttc ttgctaccat tattgtgttt ctgtgtgctg\n",
        "     8581 tactgatgta tttgtgttta cctacatttt ctatggtacc tgttgaattt tatgaagacc\n",
        "     8641 gcatcttgga ctttaaagtt cttgataatg gtatcattag ggatgtaaat cctgatgata\n",
        "     8701 agtgctttgc taataagcac cggtccttca cacaatggta tcatgagcat gttggtggtg\n",
        "     8761 tctatgacaa ctctatcaca tgcccattga cagttgcagt aattgctgga gttgctggtg\n",
        "     8821 ctcgcattcc agacgtacct actacattgg cttgggtgaa caatcagata attttctttg\n",
        "     8881 tttctcgagt ctttgctaat acaggcagtg tttgctacac tcctatagat gagataccct\n",
        "     8941 ataagagttt ctctgatagt ggttgcattc ttccatctga gtgcactatg tttagggatg\n",
        "     9001 cagagggccg tatgacacca tactgccatg atcctactgt tttgcctggg gcttttgcgt\n",
        "     9061 acagtcagat gaggcctcat gttcgttacg acttgtatga tggtaacatg tttattaaat\n",
        "     9121 ttcctgaagt agtatttgaa agtacactta ggattactag aactctgtca actcagtact\n",
        "     9181 gccggttcgg tagttgtgag tatgcacaag agggtgtttg tattaccaca aatggctcgt\n",
        "     9241 gggccatttt taatgaccac catcttaata gacctggtgt ctattgtggc tctgatttta\n",
        "     9301 ttgacattgt caggcggtta gcagtatcac tgttccagcc tattacttat ttccaattga\n",
        "     9361 ctacctcatt ggtcttgggt ataggtttgt gtgcgttcct gactttgctc ttctattata\n",
        "     9421 ttaataaagt aaaacgtgct tttgcagatt acacccagtg tgctgtaatt gctgttgttg\n",
        "     9481 ctgctgttct taatagcttg tgcatctgct ttgttgcctc tataccattg tgtatagtac\n",
        "     9541 cttacactgc attgtactat tatgctacat tctattttac taatgagcct gcatttatta\n",
        "     9601 tgcatgtttc ttggtacatt atgttcgggc ctatcgttcc catatggatg acctgcgttt\n",
        "     9661 atacagttgc aatgtgcttt agacacttct tctgggtttt agcttatttt agtaagaaac\n",
        "     9721 atgtagaagt ttttactgat ggtaagctta attgtagttt ccaggacgct gcctctaata\n",
        "     9781 tctttgttat taacaaggac acttatgcag ctcttagaaa ctctttaact aatgatgcct\n",
        "     9841 attcacgatt tttggggttg tttaacaagt ataagtactt ctctggtgct atggaaacag\n",
        "     9901 ccgcttatcg tgaagctgca gcatgtcatc ttgctaaagc cttacaaaca tacagcgaga\n",
        "     9961 ctggtagtga tcttctttac caaccaccca actgtagcat aacctctggc gtgttgcaaa\n",
        "    10021 gcggtttggt gaaaatgtca catcccagtg gagatgttga ggcttgtatg gttcaggtta\n",
        "    10081 cctgcggtag catgactctt aatggtcttt ggcttgacaa cacagtctgg tgcccacgac\n",
        "    10141 acgtaatgtg cccggctgac cagttgtctg atcctaatta tgatgccttg ttgatttcta\n",
        "    10201 tgactaatca tagtttcagt gtgcaaaaac acattggcgc tccagcaaac ttgcgtgttg\n",
        "    10261 ttggtcatgc catgcaaggc actcttttga agttgactgt cgatgttgct aaccctagca\n",
        "    10321 ctccagccta cacttttaca acagtgaaac ctggcgcagc atttagtgtg ttagcatgct\n",
        "    10381 ataatggtcg tccgactggt acattcactg ttgtaatgcg ccctaactac acaattaagg\n",
        "    10441 gttcctttct gtgtggttct tgtggtagtg ttggttacac caaggagggt agtgtgatca\n",
        "    10501 atttttgtta catgcatcaa atggaacttg ctaatggtac acataccggt tcagcatttg\n",
        "    10561 atggtactat gtatggtgcc tttatggata aacaagtgca ccaagttcag ttaacagaca\n",
        "    10621 aatactgcag tgttaatgta gtagcttggc tttacgcagc aatacttaat ggttgcgctt\n",
        "    10681 ggtttgtaaa acctaatcgc actagtgttg tttcttttaa tgaatgggct cttgccaacc\n",
        "    10741 aattcactga atttgttggc actcaatccg ttgacatgtt agctgtcaaa acaggcgttg\n",
        "    10801 ctattgaaca gctgctttat gcgatccaac aactttatac tgggttccag ggaaagcaaa\n",
        "    10861 tccttggcag tactatgttg gaagatgaat tcacacctga ggatgttaat atgcagatta\n",
        "    10921 tgggtgtggt tatgcagagt ggtgtgagaa aagttacata tggtactgcg cattggttgt\n",
        "    10981 tcgcgaccct tgtctcaacc tatgtgataa tcttacaagc cactaaattt actttgtgga\n",
        "    11041 actacttgtt tgagactatt cccacacagt tgttcccact cttatttgtg actatggcct\n",
        "    11101 tcgttatgtt gttggttaaa cacaaacaca cctttttgac acttttcttg ttgcctgtgg\n",
        "    11161 ctatttgttt gacttatgca aacatagtct acgagcccac tactcccatt tcgtcagcgc\n",
        "    11221 tgattgcagt tgcaaattgg cttgccccca ctaatgctta tatgcgcact acacatactg\n",
        "    11281 atattggtgt ctacattagt atgtcacttg tattagtcat tgtagtgaag agattgtaca\n",
        "    11341 acccatcact ttctaacttt gcgttagcat tgtgcagtgg tgtaatgtgg ttgtacactt\n",
        "    11401 atagcattgg agaagcctca agccccattg cctatctggt ttttgtcact acactcacta\n",
        "    11461 gtgattatac gattacagtc tttgttactg tcaaccttgc aaaagtttgc acttatgcca\n",
        "    11521 tctttgctta ctcaccacag cttacacttg tgtttccgga agtgaagatg atacttttat\n",
        "    11581 tatacacatg tttaggtttc atgtgtactt gctattttgg tgtcttctct tttttgaacc\n",
        "    11641 ttaagcttag agcacctatg ggtgtctatg actttaaggt ctcaacacaa gagttcagat\n",
        "    11701 tcatgactgc taacaatcta actgcaccta gaaattcttg ggaggctatg gctctgaact\n",
        "    11761 ttaagttaat aggtattggc ggtacacctt gtataaaggt tgctgctatg cagtctaaac\n",
        "    11821 ttacagatct taaatgcaca tctgtggttc tcctctctgt gctccaacag ttacacttag\n",
        "    11881 aggctaatag tagggcctgg gctttctgtg ttaaatgcca taatgatata ttggcagcaa\n",
        "    11941 cagaccccag tgaggctttc gagaaattcg taagtctctt tgccacttta atgacttttt\n",
        "    12001 ctggtaatgt agatcttgat gcgttagcta gtgatatttt tgacactcct agcgtacttc\n",
        "    12061 aagctactct ttctgagttt tcacacttag ctacctttgc tgagttggaa gctgcgcaga\n",
        "    12121 aagcctatca ggaagctatg gactctggtg acacctcacc acaagttctt aaggctttgc\n",
        "    12181 agaaggctgt taatatagct aaaaacgcct atgagaagga taaggcagtg gcccgtaagt\n",
        "    12241 tagaacgtat ggctgaccag gctatgactt ctatgtataa gcaagcacgt gctgaagaca\n",
        "    12301 agaaagcaaa aattgtcagt gctatgcaaa ctatgttgtt tggtatgatt aagaagctcg\n",
        "    12361 acaacgatgt tcttaatggt atcatttcta acgctaggaa tggttgtata cctcttagtg\n",
        "    12421 tcattccact gtgtgcttca aataaacttc gcgttgtaat tcctgacttc accgtctgga\n",
        "    12481 atcaggtagt cacatatccc tcgcttaact acgctggggc tttgtgggac attacagtta\n",
        "    12541 taaacaatgt ggacaatgaa attgttaagt cttcagatgt tgtagacagc aatgaaaatt\n",
        "    12601 taacatggcc acttgtttta gaatgcacta gggcatccac ttctgccgtt aagttgcaaa\n",
        "    12661 ataatgagat caaaccttca ggtttaaaaa ccatggttgt gtctgcaggt caagagcaaa\n",
        "    12721 ctaactgtaa tactagttcc ttagcttatt acgaacctgt gcagggtcgt aaaatgctga\n",
        "    12781 tggctcttct ttctgataat gcctatctca aatgggcgcg tgttgaaggt aaggacggat\n",
        "    12841 ttgttagtgt agagctacaa cctccttgca aattcttgat tgcgggacca aaaggacctg\n",
        "    12901 aaatccgata tctctatttt gttaaaaatc ttaacaacct tcatcgcggg caagtgttag\n",
        "    12961 ggcacattgc tgcgactgtt agattgcaag ctggttctaa caccgagttt gcctctaatt\n",
        "    13021 cttcggtgtt gtcacttgtt aacttcaccg ttgatcctca aaaagcttat ctcgattttg\n",
        "    13081 tcaatgcggg aggtgcccca ttgacaaatt gtgttaagat gcttactcct aaaactggta\n",
        "    13141 caggtatagc tatatctgtt aaaccagaga gtacagctga tcaagagact tatggtggag\n",
        "    13201 cttcagtgtg tctctattgc cgtgcgcata tagaacatcc tgatgtctct ggtgtttgta\n",
        "    13261 aatataaggg taagtttgtc caaatccctg ctcagtgtgt ccgtgaccct gtgggatttt\n",
        "    13321 gtttgtcaaa taccccctgt aatgtctgtc aatattggat tggatatggg tgcaattgtg\n",
        "    13381 actcgcttag gcaagcagca ctgccccaat ctaaagattc caatttttta aacgagtccg\n",
        "    13441 gggttctatt gtaaatgccc gaatagaacc ctgttcaagt ggtttgtcca ctgatgtcgt\n",
        "    13501 ctttagggca tttgacatct gcaactataa ggctaaggtt gctggtattg gaaaatacta\n",
        "    13561 caagactaat acttgtaggt ttgtagaatt agatgaccaa gggcatcatt tagactccta\n",
        "    13621 ttttgtcgtt aagaggcata ctatggagaa ttatgaacta gagaagcact gttacgattt\n",
        "    13681 gttacgtgac tgtgatgctg tagctcccca tgatttcttc atctttgatg tagacaaagt\n",
        "    13741 taaaacacct catattgtac gtcagcgttt aactgagtac actatgatgg atcttgtata\n",
        "    13801 tgccctgagg cactttgatc aaaatagcga agtgcttaag gctatcttag tgaagtatgg\n",
        "    13861 ttgctgtgat gttacctact ttgaaaataa actctggttt gattttgttg aaaatcccag\n",
        "    13921 tgttattggt gtttatcata aacttggaga acgtgtacgc caagctatct taaacactgt\n",
        "    13981 taaattttgt gaccacatgg tcaaggctgg tttagtcggt gtgctcacac tagacaacca\n",
        "    14041 ggaccttaat ggcaagtggt atgattttgg tgacttcgta atcactcaac ctggttcagg\n",
        "    14101 agtagctata gttgatagct actattctta tttgatgcct gtgctctcaa tgaccgattg\n",
        "    14161 tctggccgct gagacacata gggattgtga ttttaataaa ccactcattg agtggccact\n",
        "    14221 tactgagtat gattttactg attataaggt acaactcttt gagaagtact ttaaatattg\n",
        "    14281 ggatcagacg tatcacgcaa attgcgttaa ttgtactgat gaccgttgtg tgttacattg\n",
        "    14341 tgctaatttc aatgtattgt ttgctatgac catgcctaag acttgtttcg gacccatagt\n",
        "    14401 ccgaaagatc tttgttgatg gcgtgccatt tgtagtatct tgtggttatc actacaaaga\n",
        "    14461 attaggttta gtcatgaata tggatgttag tctccataga cataggctct ctcttaagga\n",
        "    14521 gttgatgatg tatgccgctg atccagccat gcacattgcc tcctctaacg cttttcttga\n",
        "    14581 tttgaggaca tcatgtttta gtgtcgctgc acttacaact ggtttgactt ttcaaactgt\n",
        "    14641 gcggcctggc aattttaacc aagacttcta tgatttcgtg gtatctaaag gtttctttaa\n",
        "    14701 ggagggctct tcagtgacgc tcaaacattt tttctttgct caagatggta atgctgctat\n",
        "    14761 tacagattat aattactatt cttataatct gcctactatg tgtgacatca aacaaatgtt\n",
        "    14821 gttctgcatg gaagttgtaa acaagtactt cgaaatctat gacggtggtt gtcttaatgc\n",
        "    14881 ttctgaagtg gttgttaata atttagacaa gagtgctggc catcctttta ataagtttgg\n",
        "    14941 caaagctcgt gtctattatg agagcatgtc ttaccaggag caagatgaac tctttgccat\n",
        "    15001 gacaaagcgt aacgtcattc ctaccatgac tcaaatgaat ctaaaatatg ctattagtgc\n",
        "    15061 taagaataga gctcgcactg ttgcaggcgt gtccatactt agcacaatga ctaatcgcca\n",
        "    15121 gtaccatcag aaaatgctta agtccatggc tgcaactcgt ggagcgactt gcgtcattgg\n",
        "    15181 tactacaaag ttctatggtg gctgggattt catgcttaaa acattgtaca aagatgttga\n",
        "    15241 taatccgcat cttatgggtt gggattaccc taagtgtgat agagctatgc ctaatatgtg\n",
        "    15301 tagaatcttc gcttcactca tattagctcg taaacatggc acttgttgta ctacaaggga\n",
        "    15361 cagattttat cgcttggcaa atgagtgtgc tcaggtgcta agcgaatatg ttctatgtgg\n",
        "    15421 tggtggttac tacgtcaaac ctggaggtac cagtagcgga gatgccacca ctgcatatgc\n",
        "    15481 caatagtgtc tttaacattt tgcaggcgac aactgctaat gtcagtgcac ttatgggtgc\n",
        "    15541 taatggcaac aagattgttg acaaagaagt taaagacatg cagtttgatt tgtatgtcaa\n",
        "    15601 tgtttacagg agcactagcc cagaccccaa atttgttgat aaatactatg cttttcttaa\n",
        "    15661 taagcacttt tctatgatga tactgtctga tgacggtgtc gtttgctata atagtgatta\n",
        "    15721 tgcagctaag ggttacattg ctggaataca gaattttaag gaaacgctgt attatcagaa\n",
        "    15781 caatgtcttt atgtctgaag ctaaatgctg ggtggaaacc gatctgaaga aagggccaca\n",
        "    15841 tgaattctgt tcacagcata cgctttatat taaggatggc gacgatggtt acttccttcc\n",
        "    15901 ttatccagac ccttcaagaa ttttgtctgc cggttgcttt gtagatgata tcgttaagac\n",
        "    15961 tgacggtaca ctcatggtag agcggtttgt gtctttggct atagatgctt accctctcac\n",
        "    16021 aaagcatgaa gatatagaat accagaatgt attctgggtc tacttacagt atatagaaaa\n",
        "    16081 actgtataaa gaccttacag gacacatgct tgacagttat tctgtcatgc tatgtggtga\n",
        "    16141 taattctgct aagttttggg aagaggcatt ctacagagat ctctatagtt cgcctaccac\n",
        "    16201 tttgcaggct gtcggttcat gcgttgtatg ccattcacag acttccctac gctgtgggac\n",
        "    16261 atgcatccgt agaccatttc tctgctgtaa atgctgctat gatcatgtta tagcaactcc\n",
        "    16321 acataagatg gttttgtctg tttctcctta cgtttgtaat gcccctggtt gtggcgtttc\n",
        "    16381 agacgttact aagctatatt taggtggtat gagctacttt tgtgtagatc atagacctgt\n",
        "    16441 gtgtagtttt ccactttgcg ctaatggtct tgtattcggc ttatacaaga atatgtgcac\n",
        "    16501 aggtagtcct tctatagttg aatttaatag gttggctacc tgtgactgga ctgaaagtgg\n",
        "    16561 tgattacacc cttgccaata ctacaacaga accactcaaa ctttttgctg ctgagacttt\n",
        "    16621 acgtgccact gaagaggcgt ctaagcagtc ttatgctatt gccaccatca aagaaattgt\n",
        "    16681 tggtgagcgc caactattac ttgtgtggga ggctggcaag tccaaaccac cactcaatcg\n",
        "    16741 taattatgtt tttactggtt atcatataac caaaaatagt aaagtgcagc tcggtgagta\n",
        "    16801 catcttcgag cgcattgatt atagtgatgc tgtatcctac aagtctagta caacgtataa\n",
        "    16861 actgactgta ggtgacatct tcgtacttac ctctcactct gtggctacct tgacggcgcc\n",
        "    16921 cacaattgtg aatcaagaga ggtatgttaa aattactggg ttgtacccaa ccattacggt\n",
        "    16981 acctgaagag ttcgcaagtc atgttgccaa cttccaaaaa tcaggttata gtaaatatgt\n",
        "    17041 cactgttcag ggaccacctg gcactggcaa aagtcatttt gctatagggt tagcgattta\n",
        "    17101 ctaccctaca gcacgtgttg tttatacagc atgttcacac gcagctgttg atgctttgtg\n",
        "    17161 tgaaaaagct tttaaatatt tgaacattgc taaatgttcc cgtatcattc ctgcaaaggc\n",
        "    17221 acgtgttgag tgctatgaca ggtttaaagt taatgagaca aattctcaat atttgtttag\n",
        "    17281 tactattaat gctctaccag aaacttctgc cgatattctg gtggttgatg aggttagtat\n",
        "    17341 gtgcactaat tatgatcttt caattattaa tgcacgtatt aaagctaagc acattgtcta\n",
        "    17401 tgtaggagat ccagcacagt tgccagctcc taggactttg ttgactagag gcacattgga\n",
        "    17461 accagaaaat ttcaatagtg tcactagatt gatgtgtaac ttaggtcctg acatattttt\n",
        "    17521 aagtatgtgc tacaggtgtc ctaaggaaat agtaagcact gtgagcgctc ttgtctacaa\n",
        "    17581 taataaattg ttagccaaga aggagctttc aggccagtgc tttaaaatac tctataaggg\n",
        "    17641 caatgtgacg catgatgcta gctctgccat taatagacca caactcacat ttgtgaagaa\n",
        "    17701 ttttattact gccaatccgg catggagtaa ggcagtcttt atttcgcctt ataattcaca\n",
        "    17761 gaatgctgtg gctcgttcaa tgctgggtct tactactcag actgttgatt cctcacaggg\n",
        "    17821 ttcagaatac cagtatgtta tcttctgtca aacagcagat acggcacatg ctaacaacat\n",
        "    17881 taacagattt aatgttgcaa tcactcgtgc ccaaaaaggt attctttgtg ttatgacatc\n",
        "    17941 tcaggcactc tttgagtcct tagagtttac tgaattgtct tttactaatt acaagctcca\n",
        "    18001 gtctcagatt gtaactggcc tttttaaaga ttgctctaga gaaacttctg gcctctcacc\n",
        "    18061 tgcttatgca ccaacatacg ttagtgttga tgacaagtat aagacgagtg atgagctttg\n",
        "    18121 cgtgaatctt aatttacccg caaatgtccc atactctcgt gttatttcca ggatgggctt\n",
        "    18181 taaactcgat gcaacagttc ctggatatcc taagcttttc attactcgtg aagaggctgt\n",
        "    18241 aaggcaagtt cgaagctgga taggcttcga tgttgagggt gctcatgctt cccgtaatgc\n",
        "    18301 atgtggcacc aatgtgcctc tacaattagg attttcaact ggtgtgaact ttgttgttca\n",
        "    18361 gccagttggt gttgtagaca ctgagtgggg taacatgtta acgggcattg ctgcccgtcc\n",
        "    18421 tccaccaggt gaacagttta agcacctcgt gcctcttatg cataaggggg ctgcgtggcc\n",
        "    18481 tattgttaga cgacgtatag tgcaaatgtt gtcagacact ttagacaaat tgtctgatta\n",
        "    18541 ctgtacgttt gtttgttggg ctcatggctt tgaattaacg tctgcatcat acttttgcaa\n",
        "    18601 gataggtaag gaacagaagt gttgcatgtg caatagacgc gctgcagcgt actcttcacc\n",
        "    18661 tctgcaatct tatgcctgct ggactcattc ctgcggttat gattatgtct acaacccttt\n",
        "    18721 ctttgtcgat gttcaacagt ggggttatgt aggcaatctt gctactaatc acgatcgtta\n",
        "    18781 ttgctctgtc catcaaggag ctcatgtggc ttctaatgat gcaataatga ctcgttgttt\n",
        "    18841 agctattcat tcttgtttta tagaacgtgt ggattgggat atagagtatc cttatatctc\n",
        "    18901 acatgaaaag aaattgaatt cctgttgtag aatcgttgag cgcaacgtcg tacgtgctgc\n",
        "    18961 tcttcttgcc ggttcatttg acaaagtcta tgatattggc aatcctaaag gaattcctat\n",
        "    19021 tgttgatgac cctgtggttg attggcatta ttttgatgca cagcccttga ccagaaaggt\n",
        "    19081 acaacagctt ttctatacag aggacatggc ctcaagattt gctgatgggc tctgcttatt\n",
        "    19141 ttggaactgt aatgtaccaa aatatcctaa taatgcaatt gtatgcaggt ttgacacacg\n",
        "    19201 tgtgcattct gagttcaatt tgccaggttg tgatggcggt agtttgtatg ttaacaagca\n",
        "    19261 cgcttttcat acaccagcat atgatgtgag tgcattccgt gatctgaaac ctttaccatt\n",
        "    19321 cttttattat tctactacac catgtgaagt gcatggtaat ggtagtatga tagaggatat\n",
        "    19381 tgattatgta cccctaaaat ctgcagtctg tattacagct tgtaatttag ggggcgctgt\n",
        "    19441 ttgtaggaag catgctacag agtacagaga gtatatggaa gcatataatc ttgtctctgc\n",
        "    19501 atcaggtttc cgcctttggt gttataagac ctttgatatt tataatctct ggtctacttt\n",
        "    19561 tacaaaagtt caaggtttgg aaaacattgc ttttaatgtt gttaaacaag gccattttat\n",
        "    19621 tggtgttgag ggtgaactac ctgtagctgt agtcaatgat aagatcttca ccaagagtgg\n",
        "    19681 cgttaatgac atttgtatgt ttgagaataa aaccactttg cctactaata tagcttttga\n",
        "    19741 actctatgct aagcgtgctg tacgctcgca tcccgatttc aaattgctac acaatttaca\n",
        "    19801 agcagacatt tgctacaagt tcgtcctttg ggattatgaa cgtagcaata tttatggtac\n",
        "    19861 tgctactatt ggtgtatgta agtacactga tattgatgtt aattcagctt tgaatatatg\n",
        "    19921 ttttgacata cgcgataatg gttcattgga gaagttcatg tctactccca atgccatctt\n",
        "    19981 tatttctgat agaaaaatta agaaataccc ttgtatggta ggtcctgatt atgcttactt\n",
        "    20041 caatggtgct atcatccgtg atagtgatgt tgttaaacaa ccagtgaagt tctacttgta\n",
        "    20101 taagaaagtc aataatgagt ttattgatcc tactgagtgt atttacactc agagtcgctc\n",
        "    20161 ttgtagtgac ttcctacccc tgtctgacat ggagaaagac tttctatctt ttgatagtga\n",
        "    20221 tgttttcatt aagaagtatg gcttggaaaa ctatgctttt gagcacgtag tctatggaga\n",
        "    20281 cttctctcat actacgttag gcggtcttca cttgcttatt ggtttataca agaagcaaca\n",
        "    20341 ggaaggtcat attattatgg aagaaatgct aaaaggtagc tcaactattc ataactattt\n",
        "    20401 tattactgag actaacacag cggcttttaa ggcggtgtgt tctgttatag atttaaagct\n",
        "    20461 tgacgacttt gttatgattt taaagagtca agaccttggc gtagtatcca aggttgtcaa\n",
        "    20521 ggttcctatt gacttaacaa tgattgagtt tatgttatgg tgtaaggatg gacaggttca\n",
        "    20581 aaccttctac cctcgactcc aggcttctgc agattggaaa cctggtcatg caatgccatc\n",
        "    20641 cctctttaaa gttcaaaatg taaaccttga acgttgtgag cttgctaatt acaagcaatc\n",
        "    20701 tattcctatg cctcgcggtg tgcacatgaa catcgctaaa tatatgcaat tgtgccagta\n",
        "    20761 tttaaatact tgcacattag ccgtgcctgc caatatgcgt gttatacatt ttggcgctgg\n",
        "    20821 ttctgataaa ggtatcgctc ctggtacatc agttttacga cagtggcttc ctacagatgc\n",
        "    20881 cattattata gataatgatt taaatgagtt cgtgtcagat gctgacataa ctttatttgg\n",
        "    20941 agattgtgta actgtacgtg tcggccaaca agtggatctt gttatttccg acatgtatga\n",
        "    21001 tcctactact aagaatgtaa caggtagtaa tgagtcaaag gctttattct ttacttacct\n",
        "    21061 gtgtaacctc attaataata atcttgctct tggtgggtct gttgctatta aaataacaga\n",
        "    21121 acactcttgg agcgttgaac tttatgaact tatgggaaaa tttgcttggt ggactgtttt\n",
        "    21181 ctgcaccaat gcaaatgcat cctcatctga aggattcctc ttaggtatta attacttggg\n",
        "    21241 tactattaaa gaaaatatag atggtggtgc tatgcacgcc aactatatat tttggagaaa\n",
        "    21301 ttccactcct atgaatctga gtacttactc actttttgat ttatccaagt ttcaattaaa\n",
        "    21361 attaaaagga acaccagttc ttcaattaaa ggagagtcaa attaacgaac tcgtaatatc\n",
        "    21421 tctcctgtcg cagggtaagt tacttatccg tgacaatgat acactcagtg tttctactga\n",
        "    21481 tgttcttgtt aacacctaca gaaagttacg ttgatgtagg gccagattct gttaagtctg\n",
        "    21541 cttgtattga ggttgatata caacagactt tctttgataa aacttggcct aggccaattg\n",
        "    21601 atgtttctaa ggctgacggt attatatacc ctcaaggccg tacatattct aacataacta\n",
        "    21661 tcacttatca aggtcttttt ccctatcagg gagaccatgg tgatatgtat gtttactctg\n",
        "    21721 caggacatgc tacaggcaca actccacaaa agttgtttgt agctaactat tctcaggacg\n",
        "    21781 tcaaacagtt tgctaatggg tttgtcgtcc gtataggagc agctgccaat tccactggca\n",
        "    21841 ctgttattat tagcccatct accagcgcta ctatacgaaa aatttaccct gcttttatgc\n",
        "    21901 tgggttcttc agttggtaat ttctcagatg gtaaaatggg ccgcttcttc aatcatactc\n",
        "    21961 tagttctttt gcccgatgga tgtggcactt tacttagagc tttttattgt attctagagc\n",
        "    22021 ctcgctctgg aaatcattgt cctgctggca attcctatac ttcttttgcc acttatcaca\n",
        "    22081 ctcctgcaac agattgttct gatggcaatt acaatcgtaa tgccagtctg aactctttta\n",
        "    22141 aggagtattt taatttacgt aactgcacct ttatgtacac ttataacatt accgaagatg\n",
        "    22201 agattttaga gtggtttggc attacacaaa ctgctcaagg tgttcacctc ttctcatctc\n",
        "    22261 ggtatgttga tttgtacggc ggcaatatgt ttcaatttgc caccttgcct gtttatgata\n",
        "    22321 ctattaagta ttattctatc attcctcaca gtattcgttc tatccaaagt gatagaaaag\n",
        "    22381 cttgggctgc cttctacgta tataaacttc aaccgttaac tttcctgttg gatttttctg\n",
        "    22441 ttgatggtta tatacgcaga gctatagact gtggttttaa tgatttgtca caactccact\n",
        "    22501 gctcatatga atccttcgat gttgaatctg gagtttattc agtttcgtct ttcgaagcaa\n",
        "    22561 aaccttctgg ctcagttgtg gaacaggctg aaggtgttga atgtgatttt tcacctcttc\n",
        "    22621 tgtctggcac acctcctcag gtttataatt tcaagcgttt ggtttttacc aattgcaatt\n",
        "    22681 ataatcttac caaattgctt tcactttttt ctgtgaatga ttttacttgt agtcaaatat\n",
        "    22741 ctccagcagc aattgctagc aactgttatt cttcactgat tttggattat ttttcatacc\n",
        "    22801 cacttagtat gaaatccgat ctcagtgtta gttctgctgg tccaatatcc cagtttaatt\n",
        "    22861 ataaacagtc cttttctaat cccacatgtt tgattttagc gactgttcct cataacctta\n",
        "    22921 ctactattac taagcctctt aagtacagct atattaacaa gtgctctcgt cttctttctg\n",
        "    22981 atgatcgtac tgaagtacct cagttagtga acgctaatca atactcaccc tgtgtatcca\n",
        "    23041 ttgtcccatc cactgtgtgg gaagacggtg attattatag gaaacaacta tctccacttg\n",
        "    23101 aaggtggtgg ctggcttgtt gctagtggct caactgttgc catgactgag caattacaga\n",
        "    23161 tgggctttgg tattacagtt caatatggta cagacaccaa tagtgtttgc cccaagcttg\n",
        "    23221 aatttgctaa tgacacaaaa attgcctctc aattaggcaa ttgcgtggaa tattccctct\n",
        "    23281 atggtgtttc gggccgtggt gtttttcaga attgcacagc tgtaggtgtt cgacagcagc\n",
        "    23341 gctttgttta tgatgcgtac cagaatttag ttggctatta ttctgatgat ggcaactact\n",
        "    23401 actgtttgcg tgcttgtgtt agtgttcctg tttctgtcat ctatgataaa gaaactaaaa\n",
        "    23461 cccacgctac tctatttggt agtgttgcat gtgaacacat tttctctacc atgtctcaat\n",
        "    23521 actcccgttc tacgcgatca atgcttaaac ggcgagattc tacatatggt ccccttcaga\n",
        "    23581 cacctgttgg ttgtgtccta ggacttgtta attcctcttt gttcgtagag gactgcaagt\n",
        "    23641 tgcctcttgg tcaatctctc tgtgctcttc ctgacacacc tagtactctc acacctcgca\n",
        "    23701 gtgtgcgctc tgttccaggt gaaatgcgct tggcatccat tgcttttaat catcctattc\n",
        "    23761 aggttgatca acttaatagt agttatttta aattaagtat acctactaat ttttcctttg\n",
        "    23821 gtgtgactca ggagtacatt cagacaacca ttcagaaagt tactgttgat tgtaaacagt\n",
        "    23881 acgtttgcaa tggtttccag aagtgtgagc aattactgcg cgagtatggc cagttttgtt\n",
        "    23941 ccaaaataaa ccgggctctc catggtgcca atttacgcca ggatgattct gtacgtaatt\n",
        "    24001 tgtttgcgag cgtgaaaagc tctcaatcat ctcctatcat accaggtttt ggaggtgact\n",
        "    24061 ttaatttgac acttctagaa cctgtttcta tatctactgg cagtcgtagt gcacgtagtg\n",
        "    24121 ctattgagga tttgctattt gacaaagtca ctatagctga tcctggttat atgcaaggtt\n",
        "    24181 acgatgattg catgcagcaa ggtccagcat cagctcgtga tcttatttgt gctcaatatg\n",
        "    24241 tggctggtta caaagtatta cctcctctta tggatgttaa tatggaagcc gcgtatacct\n",
        "    24301 catctttgct tggcagcata gcaggtgttg gctggactgc tggcttatcc tcctttgctg\n",
        "    24361 ctattccatt tgcacagagt atcttttata ggttaaacgg tgttggcatt actcaacagg\n",
        "    24421 ttctttcaga gaaccaaaag cttattgcca ataagtttaa tcaggctctg ggagctatgc\n",
        "    24481 aaacaggctt cactacaact aatgaagctt ttcggaaggt tcaggatgct gtgaacaaca\n",
        "    24541 atgcacaggc tctatccaaa ttagctagcg agctatctaa tacttttggt gctatttccg\n",
        "    24601 cctctattgg agacatcata caacgtcttg atgttctcga acaggacgcc caaatagaca\n",
        "    24661 gacttattaa tggccgtttg acaacactaa atgcttttgt tgcacagcag cttgttcgtt\n",
        "    24721 ccgaatcagc tgctctttcc gctcaattgg ctaaagataa agtcaatgag tgtgtcaagg\n",
        "    24781 cacaatccaa gcgttctgga ttttgcggtc aaggcacaca tatagtgtcc tttgttgtaa\n",
        "    24841 atgcccctaa tggcctttac ttcatgcatg ttggttatta ccctagcaac cacattgagg\n",
        "    24901 ttgtttctgc ttatggtctt tgcgatgcag ctaaccctac taattgtata gcccctgtta\n",
        "    24961 atggctactt tattaaaact aataacacta ggattgttga tgagtggtca tatactggct\n",
        "    25021 cgtccttcta tgcacctgag cccatcacct ctcttaatac taagtatgtt gcaccacagg\n",
        "    25081 tgacatacca aaacatttct actaacctcc ctcctcctct tctcggcaat tccaccggga\n",
        "    25141 ttgacttcca agatgagttg gatgagtttt tcaaaaatgt tagcaccagt atacctaatt\n",
        "    25201 ttggttctct aacacagatt aatactacat tactcgatct tacctacgag atgttgtctc\n",
        "    25261 ttcaacaagt tgttaaagcc cttaatgagt cttacataga ccttaaagag cttggcaatt\n",
        "    25321 atacttatta caacaaatgg ccgtggtaca tttggcttgg tttcattgct gggcttgttg\n",
        "    25381 ccttagctct atgcgtcttc ttcatactgt gctgcactgg ttgtggcaca aactgtatgg\n",
        "    25441 gaaaacttaa gtgtaatcgt tgttgtgata gatacgagga atacgacctc gagccgcata\n",
        "    25501 aggttcatgt tcactaatta acgaactatc aatgagagtt caaagaccac ccactctctt\n",
        "    25561 gttagtgttc tcactctctc ttttggtcac tgcattttca aaacctctct atgtacctga\n",
        "    25621 gcattgtcag aattattctg gttgcatgct tagggcttgt attaaaactg cccaagctga\n",
        "    25681 tacagctggt ctttatacaa attttcgaat tgacgtccca tctgcagaat caactggtac\n",
        "    25741 tcaatcagtt tctgtcgatc gtgagtcaac ttcaactcat gatggtccta ccgaacatgt\n",
        "    25801 tactagtgtg aatctttttg acgttggtta ctcagttaat taacgaactc tatggattac\n",
        "    25861 gtgtctctgc ttaatcaaat ttggcagaag taccttaatt caccgtatac tacttgtttg\n",
        "    25921 tatatcccta aacccacagc taagtataca cctttagttg gcacttcatt gcaccctgtg\n",
        "    25981 ctgtggaact gtcagctatc ctttgctggt tatactgaat ctgctgttaa ttctacaaaa\n",
        "    26041 gctttggcca aacaggacgc agctcagcga atcgcttggt tgctacataa ggatggagga\n",
        "    26101 atccctgatg gatgttccct ctacctccgg cactcaagtt tattcgcgca aagcgaggaa\n",
        "    26161 gaggagtcat tctccaacta agaaactgcg ctacgttaag cgtagatttt ctcttctgcg\n",
        "    26221 ccctgaagac cttagtgtta ttgtccaacc aacacactat gtcagggtta cattttcaga\n",
        "    26281 ccccaacatg tggtatctac gttcgggtca tcatttacac tcagttcaca attggcttaa\n",
        "    26341 accttatggc ggccaacctg tttctgagta ccatattact ctagctttgc taaatctcac\n",
        "    26401 tgatgaagat ttagctagag atttttcacc cattgcgctc tttttgcgca atgtcagatt\n",
        "    26461 tgagctacat gagttcgcct tgctgcgcaa aactcttgtt cttaatgcat cagagatcta\n",
        "    26521 ctgtgctaac atacatagat ttaagcctgt gtatagagtt aacacggcaa tccctactat\n",
        "    26581 taaggattgg cttctcgttc agggattttc cctttaccat agtggcctcc ctttacatat\n",
        "    26641 gtcaatctct aaattgcatg cactggatga tgttactcgc aattacatca ttacaatgcc\n",
        "    26701 atgctttaga acttatcctc aacaaatgtt tgttactcct ttggccgtag atgttgtctc\n",
        "    26761 catacggtct tccaatcagg gtaataaaca aattgttcat tcttacccca ttttacatca\n",
        "    26821 tccaggattt taacgaacta tggctttctc ggcgtcttta tttaaacccg tccagctagt\n",
        "    26881 cccagtttct cctgcatttc atcgcattga gtctactgac tctattgttt tcacatacat\n",
        "    26941 tcctgctagc ggctatgtag ctgctttagc tgtcaatgtg tgtctcattc ccctattatt\n",
        "    27001 actgctacgt caagatactt gtcgtcgcag cattatcaga actatggttc tctatttcct\n",
        "    27061 tgttctgtat aactttttat tagccattgt actagtcaat ggtgtacatt atccaactgg\n",
        "    27121 aagttgcctg atagccttct tagttatcct cataatactt tggtttgtag atagaattcg\n",
        "    27181 tttctgtctc atgctgaatt cctacattcc actgtttgac atgcgttctc actttattcg\n",
        "    27241 tgttagtaca gtttcttctc atggtatggt ccctgtcata cacaccaaac cattatttat\n",
        "    27301 tagaaacttc gatcagcgtt gcagctgttc tcgttgtttt tatttgcact cttccactta\n",
        "    27361 tatagagtgc acttatatta gccgttttag taagattagc ctagtttctg taactgactt\n",
        "    27421 ctccttaaac ggcaatgttt ccactgtttt cgtgcctgca acgcgcgatt cagttcctct\n",
        "    27481 tcacataatc gccccgagct cgcttatcgt ttaagcagct ctgcgctact atgggtcccg\n",
        "    27541 tgtagaggct aatccattag tctctctttg gacatatgga aaacgaacta tgttaccctt\n",
        "    27601 tgtccaagaa cgaatagggt tgttcatagt aaactttttc atttttaccg tagtatgtgc\n",
        "    27661 tataacactc ttggtgtgta tggctttcct tacggctact agattatgtg tgcaatgtat\n",
        "    27721 gacaggcttc aataccctgt tagttcagcc cgcattatac ttgtataata ctggacgttc\n",
        "    27781 agtctatgta aaattccagg atagtaaacc ccctctacca cctgacgagt gggtttaacg\n",
        "    27841 aactccttca taatgtctaa tatgacgcaa ctcactgagg cgcagattat tgccattatt\n",
        "    27901 aaagactgga actttgcatg gtccctgatc tttctcttaa ttactatcgt actacagtat\n",
        "    27961 ggatacccat cccgtagtat gactgtctat gtctttaaaa tgtttgtttt atggctccta\n",
        "    28021 tggccatctt ccatggcgct atcaatattt agcgccattt atccaattga tctagcttcc\n",
        "    28081 cagataatct ctggcattgt agcagctgtt tcagctatga tgtggatttc ctactttgtg\n",
        "    28141 cagagtatcc ggctgtttat gagaactgga tcatggtggt cattcaatcc tgagactaat\n",
        "    28201 tgccttttga acgttccatt tggtggtaca actgtcgtac gtccactcgt agaggactct\n",
        "    28261 accagtgtaa ctgctgttgt aaccaatggc cacctcaaaa tggctggcat gcatttcggt\n",
        "    28321 gcttgtgact acgacagact tcctaatgaa gtcaccgtgg ccaaacccaa tgtgctgatt\n",
        "    28381 gctttaaaaa tggtgaagcg gcaaagctac ggaactaatt ccggcgttgc catttaccat\n",
        "    28441 agatataagg caggtaatta caggagtccg cctattacgg cggatattga acttgcattg\n",
        "    28501 cttcgagctt aggctcttta gtaagagtat cttaattgat tttaacgaat ctcaatttca\n",
        "    28561 ttgttatggc atcccctgct gcacctcgtg ctgtttcctt tgccgataac aatgatataa\n",
        "    28621 caaatacaaa cctgtctcga ggtagaggac gtaatccaaa accacgagct gcaccaaata\n",
        "    28681 acactgtctc ttggtacact gggcttaccc aacacgggaa agtccctctt acctttccac\n",
        "    28741 ctgggcaggg tgtacctctt aatgccaatt ccaccccagc gcaaaatgct gggtattggc\n",
        "    28801 ggagacagga cagaaaaatt aataccggga atggaattaa gcaactggct cccaggtggt\n",
        "    28861 acttctacta cactggaacc ggacccgaag cagcactccc attccgggct gttaaggatg\n",
        "    28921 gcatcgtttg ggtccatgaa catggcgcca ctgatgctcc ttcaactttt gggacgcgga\n",
        "    28981 accctaacaa tgattcagct attgttacac aattcgcgcc cggtactaag cttcctaaaa\n",
        "    29041 acttccacat tgaggggact ggaggcaata gtcaatcatc ttcaagagcc tctagcgtaa\n",
        "    29101 gcagaaactc ttccagatct agttcacaag gttcaagatc aggaaactct acccgcggca\n",
        "    29161 cttctccagg tccatctgga atcggagcag taggaggtga tctactttac cttgatcttc\n",
        "    29221 tgaacagact acaagccctt gagtctggca aagtaaagca atcgcagcca aaagtaatca\n",
        "    29281 ctaagaaaga tgctgctgct gctaaaaata agatgcgcca caagcgcact tccaccaaaa\n",
        "    29341 gtttcaacat ggtgcaagct tttggtcttc gcggaccagg agacctccag ggaaactttg\n",
        "    29401 gtgatcttca attgaataaa ctcggcactg aggacccacg ttggccccaa attgctgagc\n",
        "    29461 ttgctcctac agccagtgct tttatgggta tgtcgcaatt taaacttacc catcagaaca\n",
        "    29521 atgatgatca tggcaaccct gtgtacttcc ttcggtacag tggagccatt aaacttgacc\n",
        "    29581 caaagaatcc caactacaat aagtggttgg agcttcttga gcaaaatatt gatgcctaca\n",
        "    29641 aaaccttccc taagaaggaa aagaaacaaa aggcaccaaa agaagaatca acagaccaaa\n",
        "    29701 tgtctgaacc tcctaaggag cagcgtgtgc aaggtagcat cactcagcgc actcgcaccc\n",
        "    29761 gtccaagtgt tcagcctggt ccaatgattg atgttaacac tgattagtgt cactcaaagt\n",
        "    29821 aacaagatcg cggcaatcgt ttgtgtttgg taaccccatc tcaccatcgc ttgtccactc\n",
        "    29881 ttgcacagaa tggaatcatg ttgtaattac agtgcaataa ggtaattata acccatttaa\n",
        "    29941 ttgatagcta tgctttatta aagtgtgtag ctgtagagag aatgttaaag actgtcacct\n",
        "    30001 ctgcctgatt gcaagtgaac agtgcccccc gggaagagct ctacagtgtg aaatgtaaat\n",
        "    30061 aaaaatagct attattcaat tagattaggc taattagatg atttgcaaaa aaaaaaaaaa\n",
        "    30121 aaa\n",
        "'''    "
      ],
      "execution_count": null,
      "outputs": []
    },
    {
      "cell_type": "code",
      "metadata": {
        "id": "SUWIqi_zZy7n"
      },
      "source": [
        "def clean(dna):\n",
        "    num = '0123456789'\n",
        "    for n in num:\n",
        "        dna = dna.replace(n,'')\n",
        "    dna = dna.replace('\\n','') \\\n",
        "             .strip() \\\n",
        "             .replace(' ','')\n",
        "    return dna"
      ],
      "execution_count": null,
      "outputs": []
    },
    {
      "cell_type": "code",
      "metadata": {
        "id": "_da-dGMRZ1Jz"
      },
      "source": [
        "covid_dna = clean(a)"
      ],
      "execution_count": null,
      "outputs": []
    },
    {
      "cell_type": "code",
      "metadata": {
        "colab": {
          "base_uri": "https://localhost:8080/",
          "height": 137
        },
        "id": "REQTYmINZ3Rx",
        "outputId": "95e03db1-8b9f-488b-9511-4b78afaaf489"
      },
      "source": [
        "covid_dna "
      ],
      "execution_count": null,
      "outputs": [
        {
          "output_type": "execute_result",
          "data": {
            "application/vnd.google.colaboratory.intrinsic+json": {
              "type": "string"
            },
            "text/plain": [
              "'gatttaagtgaatagcttggctatctcacttcccctcgttctcttgcagaactttgattttaacgaacttaaataaaagccctgttgtttagcgtattgttgcacttgtctggtgggattgtggcattaatttgcctgctcatctaggcagtggacatatgctcaacactgggtataattctaattgaatactatttttcagttagagcgtcgtgtctcttgtacgtctcggtcacaatacacggtttcgtccggtgcgtggcaattcggggcacatcatgtctttcgtggctggtgtgaccgcgcaaggtgcgcgcggtacgtatcgagcagcgctcaactctgaaaaacatcaagaccatgtgtctctaactgtgccactctgtggttcaggaaacctggttgaaaaactttcaccatggttcatggatggcgaaaatgcctatgaagtggtgaaggccatgttacttaaaaaggagccacttctctatgtgcccatccggctggctggacacactagacacctcccaggtcctcgtgtatacctggttgagaggctcattgcttgtgaaaatccattcatggttaaccaattggcttatagctctagtgcaaatggcagcttggttggcacaattttgcagggcaagcctattggtatgttcttcccttatgacatcgaacttgtcacaggaaagcaaaatattctcctgcgcaagtatggccgtggtggttaccactacaccccattccactatgagcgagacaacacctcttgccctgagtggatggacgattttgaggcggatcctaaaggcaaatatgcccagaatctgcttaagaagttgattggcggtgatgtcactccagttgaccaatacatgtgtggcgttgatggaaaacccattagtgcctacgcatttttaatggccaaggatggaataaccaaactggctgatgttgaagcggacgtcgcagcacgtgctgatgacgaaggcttcatcacattaaagaacaatctatatagattggtttggcatgttgagcgtaaagacgttccatatcctaagcaatctatttttactattaatagtgtggtccaaaaggatggtgttgaaaacactcctcctcactattttactcttggatgcaaaattttaacgctcaccccacgcaacaagtggagtggcgtttctgacttgtccctcaaacaaaaactcctttacaccttctatggtaaggagtcacttgagaacccaacctacatttaccactccgcattcattgagtgtggaagttgtggtaatgattcctggcttacagggaatgctatccaagggtttgcctgtggatgtggggcatcatatacagctaatgatgtcgaagtccaatcatctggcatgattaagccaaatgctcttctttgtgctacttgcccctttgctaagggtgatagctgttcttctaattgcaaacattcagttgctcagttggttagttacctttctgaacgttgtaatgttattgctgattctaagtccttcacacttatctttggtggcgtagcttacgcctactttggatgtgaggaaggtactatgtactttgtgcctagagctaagtctgttgtctcaaggattggagactccatctttacaggctgtactggctcttggaacaaggtcactcaaattgctaacatgttcttggaacagactcagcattcccttaactttgtgggagagttcgttgtcaacgatgttgtcctcgcaattctctctggaaccacaactaatgttgacaaaatacgccagcttctcaaaggtgtcacccttgacaagttgcgtgattatttagctgactatgacgtagcagtcactgccggcccattcatggataatgctattaatgttggtggtacaggattacagtatgccgccattactgcaccttatgtagttctcactggcttaggtgagtcctttaagaaagttgcaaccataccgtacaaggtttgcaactctgttaaggatactctgacttattatgctcacagcgtgttgtacagagtttttccttatgacatggattctggtgtgtcatcctttagtgaactactttttgattgcgttgatctttcagtagcttctacctattttttagtccgcctcttgcaagataagactggcgactttatgtctacaattattacttcctgccaaactgctgttagtaagcttctagatacatgttttgaagctacagaagcaacatttaacttcttgttagatttggcaggattgttcagaatctttcttcgcaatgcctatgtgtacacttcacaagggtttgtggtggtcaatggcaaagtttctacacttgtcaaacaagtgttagacttgcttaataagggtatgcaacttttgcatacaaaggtctcctgggctggttctaatatcagtgctgttatctacagcggcagggagtctttaatattcccatcgggaacctattactgtgtcaccactaaggctaagtccgttcaacaagatcttgacgttattttgcctggtgagttttccaagaagcagttaggactgctccaacctactgacaattctacaactgttagtgttactgtatccagtaacatggttgaaactgttgtgggtcaacttgagcaaactaatatgcatagtcctgatgttatagtaggtgactatgtcattattagtgaaaaattgtttgtgcgtagtaaggaagaagacggatttgccttctaccctgcttgcactaatggtcatgctgtaccgactctctttagacttaagggaggtgcacctgtaaaaaaagtagcctttggcggtgatcaagtacatgaggttgctgctgtaagaagtgttactgtcgagtacaacattcatgctgtattagacacactacttgcttcttctagtcttagaacctttgttgtagataagtctttgtcaattgaggagtttgctgacgtagtaaaggaacaagtctcagacttgcttgttaaattactgcgtggaatgccgattccagattttgatttagacgattttattgacgcaccatgctattgctttaacgctgagggtgatgcatcttggtcttctactatgatcttctctcttcaccccgtcgagtgtgacgaggagtgttctgaagtagaggcttcagatttagaagaaggtgaatcagagtgcatttctgagacttcaactgaacaagttgacgtttctcatgagatttctgacgacgagtgggctgctgcagttgatgaagcgttccctctcgatgaagcagaagatgttactgaatctgtgcaagaagaagcacaaccagtagaagtacctgttgaagatattgcgcaggttgtcatagctgacaccttacaggaaactcctgttgtgtctgatactgttgaagtcccaccgcaagtggtgaaacttccgtctgaacctcagactatccagcccgaggtaaaagaagttgcacctgtctatgaggctgataccgaacagacacagagtgttactgttaaacctaagaggttacgcaaaaagcgtaatgttgaccctttgtccaattttgaacataaggttattacagagtgcgttaccatagttttaggtgacgcaattcaagtagccaagtgctatggtgagtctgtgttagttaatgctgctaacacacatcttaagcatggcggtggtatcgctggtgctattaatgcggcttcaaaaggggctgtccaaaaagagtcagatgagtatattctggctaaagggccgttacaagtaggagattcagttctcttgcaaggccattctctagctaagaatatcctgcatgtcgtaggcccagatgcccgcgctaaacaggatgtttctctccttagtaagtgctataaggctatgaatgcatatcctcttgtagtcactcctcttgtttcagcaggcatatttggtgtaaaaccagctgtgtcttttgattatcttattagagaggctaagactagagttttagtcgtcgttaattcccaagatgtctataagagtcttaccatagttgacattccacagagtttgactttttcatatgatgggttacgtggcgcaatacgtaaagctaaagattatggttttactgtttttgtgtgcacagacaactctgctaacactaaagttcttaggaacaagggtgttgattatactaagaagtttcttacagttgacggtgtgcaatattattgctacacgtctaaggacactttagatgatatcttacaacaggctaataagtctgttggtattatatctatgcctttgggatatgtgtctcatggtttagacttaattcaagcagggagtgtcgtgcgtagagttaacgtgccctacgtgtgtctcctagctaataaagagcaagaagctattttgatgtctgaagacgttaagttaaacccttcagaagattttataaagcacgtccgcactaatggtggttacaattcttggcatttagtcgagggtgaactattggtgcaagacttacgcttaaataagctcctgcattggtctgatcaaaccatatgctacaaggatagtgtgttttatgttgtaaagaatagtacagcttttccatttgaaacactttcagcatgtcgtgcgtatttggattcacgcacgacacagcagttaacaatcgaagtcttagtgactgtcgatggtgtaaattttagaacagtcgttctaaataataagaacacttatagatcacagcttggatgcgttttctttaatggtgctgatatttctgataccattcctgatgagaaacagaatggtcacagtttatatctagcagacaatttgactgctgatgaaacaaaggcgcttaaagagttatatggccccgttgatcctactttcttacacagattctattcacttaaggctgcagtccataagtggaagatggttgtgtgtgataaggtacgttctctcaaattgagtgataataattgttatcttaatgcagttattatgacacttgatttattgaaggacattaaatttgttatacctgctctacagcatgcatttatgaaacataagggcggtgattcaactgacttcatagccctcattatggcttatggcaattgcacatttggtgctccagatgatgcctctcggttacttcataccgtgcttgcaaaggctgagttatgctgttctgcacgcatggtttggagagagtggtgcaatgtctgtggcataaaagatgttgttctacaaggcttaaaagcttgttgttacgtgggtgtgcaaactgttgaagatctgcgtgctcgcatgacatatgtatgccagtgtggtggtgaacgtcatcggcaaatagtcgaacacaccaccccctggttgctgctctcaggcacaccaaatgaaaaattggtgacaacctccacggcgcctgattttgtagcgtttaatgtctttcagggcattgaaacggctgttggccattatgttcatgctcgcctgaagggtggtcttattttaaagtttgactctggcaccgttagcaagacttcagactggaagtgcaaggtgacagatgtacttttctccggccaaaaatacagtagcgattgtaatgtcgtacggtattctttggacggtaatttcagaacagaggttgatcccgacctatctgctttctatgttaaggatggtaaatactttacaagtgaaccacccgtaacatattcaccagctacaattttagctggtagtgtctacactaatagctgccttgtatcgtctgatggacaacctggcggtgatgctattagtttgagttttaataaccttttagggtttgattctagtaaaccagtcactaagaaatacacttactccttcttgcctaaagaagacggcgatgtgttgttggctgagtttgacacttatgaccctatttataagaatggtgccatgtataaaggcaaaccaattctttgggtcaacaaagcatcttatgatactaatcttaataagttcaatagagctagtttgcgtcaaatttttgacgtagcccccattgaactcgaaaataaattcacacctttgagtgtggagtctacaccagttgaacctccaactgtagatgtggtagcacttcaacaggaaatgacaattgtcaaatgtaagggtttaaataaacctttcgtgaaggacaatgtcagtttcgttgctgatgactcaggtactcccgttgttgagtatctgtctaaagaagatctacatacattgtatgtagaccctaagtatcaagtcattgtcttaaaagacaatgtactttcttctatgcttagattgcacaccgttgagtcaggtgatattaacgttgttgcagcttccggatctttgacacgtaaagtgaaattactatttagggcttcattttatttcaaagaatttgctacccgcactttcactgctaccactgctgtaggtagttgtataaagagtgtagtgcggcatctaggtgttactaaaggcatattgacaggctgttttagttttgtcaagatgttatttatgcttccactagcttactttagtgattcaaaactcggcaccacagaggttaaagtgagtgctttgaaaacagctggcgttgtgacaggtaatgttgtaaaacagtgttgcactgctgctgttgatttaagtatggataagttgcgccgtgtggattggaaatcaaccctacggttgttacttatgttatgcacaactatggtattgttgtcttctgtgtatcacttgtatgtcttcaatcaggtcttatcaagtgatgttatgtttgaagatgcccaaggtttgaaaaagttctacaaagaagttagagcttacctaggaatctcttctgcttgtgacggtcttgcttcagcttatagggcgaattcctttgatgtacctacattctgcgcaaaccgttctgcaatgtgtaattggtgcttgattagccaagattccataactcactacccagctcttaagatggttcaaacacatcttagccactatgttcttaacatagattggttgtggtttgcatttgagactggtttggcatacatgctctatacctcggccttcaactggttgttgttggcaggtacattgcattatttctttgcacagacttccatatttgtagactggcggtcatacaattatgctgtgtctagtgccttctggttattcacccacattccaatggcgggtttggtacgaatgtataatttgttagcatgcctttggcttttacgcaagttttatcagcatgtaatcaatggttgcaaagatacggcatgcttgctctgctataagaggaaccgacttactagagttgaagcttctaccgttgtctgtggtggaaaacgtacgttttatatcacagcaaatggcggtatttcattctgtcgtaggcataattggaattgtgtggattgtgacactgcaggtgtggggaataccttcatctgtgaagaagtcgcaaatgacctcactaccgccctacgcaggcctattaacgctacggatagatcacattattatgtggattccgttacagttaaagagactgttgttcagtttaattatcgtagagacggtcaaccattctacgagcggtttcccctctgcgcttttacaaatctagataagttgaagttcaaagaggtctgtaaaactactactggtatacctgaatacaactttatcatctacgactcatcagatcgtggccaggaaagtttagctaggtctgcatgtgtttattattctcaagtcttgtgtaaatcaattcttttggttgactcaagtttggttacttctgttggtgattctagtgaaatcgccactaaaatgtttgattcctttgttaatagtttcgtctcgctgtataatgtcacacgcgataagttggaaaaacttatctctactgctcgtgatggcgtaaggcgaggcgataacttccatagtgtcttaacaacattcattgacgcagcacgaggccccgcaggtgtggagtctgatgttgagaccaatgaaattgttgactctgtgcagtatgctcataaacatgacatacaaattactaatgagagttacaataattatgtaccctcatatgttaaacctgatagtgtgtctaccagtgatttaggtagtctcattgattgtaatgcggcttcagttaaccaaattgtcttgcgtaattctaatggtgcttgtatttggaacgctgctgcatatatgaaactctcggatgcacttaaacgacagattcgcattgcatgccgtaagtgtaatttagctttccggttaaccacctcaaagctacgcgctaatgataatatcttatcagttagattcactgctaacaaaattgttggtggtgctcctacatggtttaatgcgttgcgtgactttacgttaaagggttacgttcttgctaccattattgtgtttctgtgtgctgtactgatgtatttgtgtttacctacattttctatggtacctgttgaattttatgaagaccgcatcttggactttaaagttcttgataatggtatcattagggatgtaaatcctgatgataagtgctttgctaataagcaccggtccttcacacaatggtatcatgagcatgttggtggtgtctatgacaactctatcacatgcccattgacagttgcagtaattgctggagttgctggtgctcgcattccagacgtacctactacattggcttgggtgaacaatcagataattttctttgtttctcgagtctttgctaatacaggcagtgtttgctacactcctatagatgagataccctataagagtttctctgatagtggttgcattcttccatctgagtgcactatgtttagggatgcagagggccgtatgacaccatactgccatgatcctactgttttgcctggggcttttgcgtacagtcagatgaggcctcatgttcgttacgacttgtatgatggtaacatgtttattaaatttcctgaagtagtatttgaaagtacacttaggattactagaactctgtcaactcagtactgccggttcggtagttgtgagtatgcacaagagggtgtttgtattaccacaaatggctcgtgggccatttttaatgaccaccatcttaatagacctggtgtctattgtggctctgattttattgacattgtcaggcggttagcagtatcactgttccagcctattacttatttccaattgactacctcattggtcttgggtataggtttgtgtgcgttcctgactttgctcttctattatattaataaagtaaaacgtgcttttgcagattacacccagtgtgctgtaattgctgttgttgctgctgttcttaatagcttgtgcatctgctttgttgcctctataccattgtgtatagtaccttacactgcattgtactattatgctacattctattttactaatgagcctgcatttattatgcatgtttcttggtacattatgttcgggcctatcgttcccatatggatgacctgcgtttatacagttgcaatgtgctttagacacttcttctgggttttagcttattttagtaagaaacatgtagaagtttttactgatggtaagcttaattgtagtttccaggacgctgcctctaatatctttgttattaacaaggacacttatgcagctcttagaaactctttaactaatgatgcctattcacgatttttggggttgtttaacaagtataagtacttctctggtgctatggaaacagccgcttatcgtgaagctgcagcatgtcatcttgctaaagccttacaaacatacagcgagactggtagtgatcttctttaccaaccacccaactgtagcataacctctggcgtgttgcaaagcggtttggtgaaaatgtcacatcccagtggagatgttgaggcttgtatggttcaggttacctgcggtagcatgactcttaatggtctttggcttgacaacacagtctggtgcccacgacacgtaatgtgcccggctgaccagttgtctgatcctaattatgatgccttgttgatttctatgactaatcatagtttcagtgtgcaaaaacacattggcgctccagcaaacttgcgtgttgttggtcatgccatgcaaggcactcttttgaagttgactgtcgatgttgctaaccctagcactccagcctacacttttacaacagtgaaacctggcgcagcatttagtgtgttagcatgctataatggtcgtccgactggtacattcactgttgtaatgcgccctaactacacaattaagggttcctttctgtgtggttcttgtggtagtgttggttacaccaaggagggtagtgtgatcaatttttgttacatgcatcaaatggaacttgctaatggtacacataccggttcagcatttgatggtactatgtatggtgcctttatggataaacaagtgcaccaagttcagttaacagacaaatactgcagtgttaatgtagtagcttggctttacgcagcaatacttaatggttgcgcttggtttgtaaaacctaatcgcactagtgttgtttcttttaatgaatgggctcttgccaaccaattcactgaatttgttggcactcaatccgttgacatgttagctgtcaaaacaggcgttgctattgaacagctgctttatgcgatccaacaactttatactgggttccagggaaagcaaatccttggcagtactatgttggaagatgaattcacacctgaggatgttaatatgcagattatgggtgtggttatgcagagtggtgtgagaaaagttacatatggtactgcgcattggttgttcgcgacccttgtctcaacctatgtgataatcttacaagccactaaatttactttgtggaactacttgtttgagactattcccacacagttgttcccactcttatttgtgactatggccttcgttatgttgttggttaaacacaaacacacctttttgacacttttcttgttgcctgtggctatttgtttgacttatgcaaacatagtctacgagcccactactcccatttcgtcagcgctgattgcagttgcaaattggcttgcccccactaatgcttatatgcgcactacacatactgatattggtgtctacattagtatgtcacttgtattagtcattgtagtgaagagattgtacaacccatcactttctaactttgcgttagcattgtgcagtggtgtaatgtggttgtacacttatagcattggagaagcctcaagccccattgcctatctggtttttgtcactacactcactagtgattatacgattacagtctttgttactgtcaaccttgcaaaagtttgcacttatgccatctttgcttactcaccacagcttacacttgtgtttccggaagtgaagatgatacttttattatacacatgtttaggtttcatgtgtacttgctattttggtgtcttctcttttttgaaccttaagcttagagcacctatgggtgtctatgactttaaggtctcaacacaagagttcagattcatgactgctaacaatctaactgcacctagaaattcttgggaggctatggctctgaactttaagttaataggtattggcggtacaccttgtataaaggttgctgctatgcagtctaaacttacagatcttaaatgcacatctgtggttctcctctctgtgctccaacagttacacttagaggctaatagtagggcctgggctttctgtgttaaatgccataatgatatattggcagcaacagaccccagtgaggctttcgagaaattcgtaagtctctttgccactttaatgactttttctggtaatgtagatcttgatgcgttagctagtgatatttttgacactcctagcgtacttcaagctactctttctgagttttcacacttagctacctttgctgagttggaagctgcgcagaaagcctatcaggaagctatggactctggtgacacctcaccacaagttcttaaggctttgcagaaggctgttaatatagctaaaaacgcctatgagaaggataaggcagtggcccgtaagttagaacgtatggctgaccaggctatgacttctatgtataagcaagcacgtgctgaagacaagaaagcaaaaattgtcagtgctatgcaaactatgttgtttggtatgattaagaagctcgacaacgatgttcttaatggtatcatttctaacgctaggaatggttgtatacctcttagtgtcattccactgtgtgcttcaaataaacttcgcgttgtaattcctgacttcaccgtctggaatcaggtagtcacatatccctcgcttaactacgctggggctttgtgggacattacagttataaacaatgtggacaatgaaattgttaagtcttcagatgttgtagacagcaatgaaaatttaacatggccacttgttttagaatgcactagggcatccacttctgccgttaagttgcaaaataatgagatcaaaccttcaggtttaaaaaccatggttgtgtctgcaggtcaagagcaaactaactgtaatactagttccttagcttattacgaacctgtgcagggtcgtaaaatgctgatggctcttctttctgataatgcctatctcaaatgggcgcgtgttgaaggtaaggacggatttgttagtgtagagctacaacctccttgcaaattcttgattgcgggaccaaaaggacctgaaatccgatatctctattttgttaaaaatcttaacaaccttcatcgcgggcaagtgttagggcacattgctgcgactgttagattgcaagctggttctaacaccgagtttgcctctaattcttcggtgttgtcacttgttaacttcaccgttgatcctcaaaaagcttatctcgattttgtcaatgcgggaggtgccccattgacaaattgtgttaagatgcttactcctaaaactggtacaggtatagctatatctgttaaaccagagagtacagctgatcaagagacttatggtggagcttcagtgtgtctctattgccgtgcgcatatagaacatcctgatgtctctggtgtttgtaaatataagggtaagtttgtccaaatccctgctcagtgtgtccgtgaccctgtgggattttgtttgtcaaataccccctgtaatgtctgtcaatattggattggatatgggtgcaattgtgactcgcttaggcaagcagcactgccccaatctaaagattccaattttttaaacgagtccggggttctattgtaaatgcccgaatagaaccctgttcaagtggtttgtccactgatgtcgtctttagggcatttgacatctgcaactataaggctaaggttgctggtattggaaaatactacaagactaatacttgtaggtttgtagaattagatgaccaagggcatcatttagactcctattttgtcgttaagaggcatactatggagaattatgaactagagaagcactgttacgatttgttacgtgactgtgatgctgtagctccccatgatttcttcatctttgatgtagacaaagttaaaacacctcatattgtacgtcagcgtttaactgagtacactatgatggatcttgtatatgccctgaggcactttgatcaaaatagcgaagtgcttaaggctatcttagtgaagtatggttgctgtgatgttacctactttgaaaataaactctggtttgattttgttgaaaatcccagtgttattggtgtttatcataaacttggagaacgtgtacgccaagctatcttaaacactgttaaattttgtgaccacatggtcaaggctggtttagtcggtgtgctcacactagacaaccaggaccttaatggcaagtggtatgattttggtgacttcgtaatcactcaacctggttcaggagtagctatagttgatagctactattcttatttgatgcctgtgctctcaatgaccgattgtctggccgctgagacacatagggattgtgattttaataaaccactcattgagtggccacttactgagtatgattttactgattataaggtacaactctttgagaagtactttaaatattgggatcagacgtatcacgcaaattgcgttaattgtactgatgaccgttgtgtgttacattgtgctaatttcaatgtattgtttgctatgaccatgcctaagacttgtttcggacccatagtccgaaagatctttgttgatggcgtgccatttgtagtatcttgtggttatcactacaaagaattaggtttagtcatgaatatggatgttagtctccatagacataggctctctcttaaggagttgatgatgtatgccgctgatccagccatgcacattgcctcctctaacgcttttcttgatttgaggacatcatgttttagtgtcgctgcacttacaactggtttgacttttcaaactgtgcggcctggcaattttaaccaagacttctatgatttcgtggtatctaaaggtttctttaaggagggctcttcagtgacgctcaaacattttttctttgctcaagatggtaatgctgctattacagattataattactattcttataatctgcctactatgtgtgacatcaaacaaatgttgttctgcatggaagttgtaaacaagtacttcgaaatctatgacggtggttgtcttaatgcttctgaagtggttgttaataatttagacaagagtgctggccatccttttaataagtttggcaaagctcgtgtctattatgagagcatgtcttaccaggagcaagatgaactctttgccatgacaaagcgtaacgtcattcctaccatgactcaaatgaatctaaaatatgctattagtgctaagaatagagctcgcactgttgcaggcgtgtccatacttagcacaatgactaatcgccagtaccatcagaaaatgcttaagtccatggctgcaactcgtggagcgacttgcgtcattggtactacaaagttctatggtggctgggatttcatgcttaaaacattgtacaaagatgttgataatccgcatcttatgggttgggattaccctaagtgtgatagagctatgcctaatatgtgtagaatcttcgcttcactcatattagctcgtaaacatggcacttgttgtactacaagggacagattttatcgcttggcaaatgagtgtgctcaggtgctaagcgaatatgttctatgtggtggtggttactacgtcaaacctggaggtaccagtagcggagatgccaccactgcatatgccaatagtgtctttaacattttgcaggcgacaactgctaatgtcagtgcacttatgggtgctaatggcaacaagattgttgacaaagaagttaaagacatgcagtttgatttgtatgtcaatgtttacaggagcactagcccagaccccaaatttgttgataaatactatgcttttcttaataagcacttttctatgatgatactgtctgatgacggtgtcgtttgctataatagtgattatgcagctaagggttacattgctggaatacagaattttaaggaaacgctgtattatcagaacaatgtctttatgtctgaagctaaatgctgggtggaaaccgatctgaagaaagggccacatgaattctgttcacagcatacgctttatattaaggatggcgacgatggttacttccttccttatccagacccttcaagaattttgtctgccggttgctttgtagatgatatcgttaagactgacggtacactcatggtagagcggtttgtgtctttggctatagatgcttaccctctcacaaagcatgaagatatagaataccagaatgtattctgggtctacttacagtatatagaaaaactgtataaagaccttacaggacacatgcttgacagttattctgtcatgctatgtggtgataattctgctaagttttgggaagaggcattctacagagatctctatagttcgcctaccactttgcaggctgtcggttcatgcgttgtatgccattcacagacttccctacgctgtgggacatgcatccgtagaccatttctctgctgtaaatgctgctatgatcatgttatagcaactccacataagatggttttgtctgtttctccttacgtttgtaatgcccctggttgtggcgtttcagacgttactaagctatatttaggtggtatgagctacttttgtgtagatcatagacctgtgtgtagttttccactttgcgctaatggtcttgtattcggcttatacaagaatatgtgcacaggtagtccttctatagttgaatttaataggttggctacctgtgactggactgaaagtggtgattacacccttgccaatactacaacagaaccactcaaactttttgctgctgagactttacgtgccactgaagaggcgtctaagcagtcttatgctattgccaccatcaaagaaattgttggtgagcgccaactattacttgtgtgggaggctggcaagtccaaaccaccactcaatcgtaattatgtttttactggttatcatataaccaaaaatagtaaagtgcagctcggtgagtacatcttcgagcgcattgattatagtgatgctgtatcctacaagtctagtacaacgtataaactgactgtaggtgacatcttcgtacttacctctcactctgtggctaccttgacggcgcccacaattgtgaatcaagagaggtatgttaaaattactgggttgtacccaaccattacggtacctgaagagttcgcaagtcatgttgccaacttccaaaaatcaggttatagtaaatatgtcactgttcagggaccacctggcactggcaaaagtcattttgctatagggttagcgatttactaccctacagcacgtgttgtttatacagcatgttcacacgcagctgttgatgctttgtgtgaaaaagcttttaaatatttgaacattgctaaatgttcccgtatcattcctgcaaaggcacgtgttgagtgctatgacaggtttaaagttaatgagacaaattctcaatatttgtttagtactattaatgctctaccagaaacttctgccgatattctggtggttgatgaggttagtatgtgcactaattatgatctttcaattattaatgcacgtattaaagctaagcacattgtctatgtaggagatccagcacagttgccagctcctaggactttgttgactagaggcacattggaaccagaaaatttcaatagtgtcactagattgatgtgtaacttaggtcctgacatatttttaagtatgtgctacaggtgtcctaaggaaatagtaagcactgtgagcgctcttgtctacaataataaattgttagccaagaaggagctttcaggccagtgctttaaaatactctataagggcaatgtgacgcatgatgctagctctgccattaatagaccacaactcacatttgtgaagaattttattactgccaatccggcatggagtaaggcagtctttatttcgccttataattcacagaatgctgtggctcgttcaatgctgggtcttactactcagactgttgattcctcacagggttcagaataccagtatgttatcttctgtcaaacagcagatacggcacatgctaacaacattaacagatttaatgttgcaatcactcgtgcccaaaaaggtattctttgtgttatgacatctcaggcactctttgagtccttagagtttactgaattgtcttttactaattacaagctccagtctcagattgtaactggcctttttaaagattgctctagagaaacttctggcctctcacctgcttatgcaccaacatacgttagtgttgatgacaagtataagacgagtgatgagctttgcgtgaatcttaatttacccgcaaatgtcccatactctcgtgttatttccaggatgggctttaaactcgatgcaacagttcctggatatcctaagcttttcattactcgtgaagaggctgtaaggcaagttcgaagctggataggcttcgatgttgagggtgctcatgcttcccgtaatgcatgtggcaccaatgtgcctctacaattaggattttcaactggtgtgaactttgttgttcagccagttggtgttgtagacactgagtggggtaacatgttaacgggcattgctgcccgtcctccaccaggtgaacagtttaagcacctcgtgcctcttatgcataagggggctgcgtggcctattgttagacgacgtatagtgcaaatgttgtcagacactttagacaaattgtctgattactgtacgtttgtttgttgggctcatggctttgaattaacgtctgcatcatacttttgcaagataggtaaggaacagaagtgttgcatgtgcaatagacgcgctgcagcgtactcttcacctctgcaatcttatgcctgctggactcattcctgcggttatgattatgtctacaaccctttctttgtcgatgttcaacagtggggttatgtaggcaatcttgctactaatcacgatcgttattgctctgtccatcaaggagctcatgtggcttctaatgatgcaataatgactcgttgtttagctattcattcttgttttatagaacgtgtggattgggatatagagtatccttatatctcacatgaaaagaaattgaattcctgttgtagaatcgttgagcgcaacgtcgtacgtgctgctcttcttgccggttcatttgacaaagtctatgatattggcaatcctaaaggaattcctattgttgatgaccctgtggttgattggcattattttgatgcacagcccttgaccagaaaggtacaacagcttttctatacagaggacatggcctcaagatttgctgatgggctctgcttattttggaactgtaatgtaccaaaatatcctaataatgcaattgtatgcaggtttgacacacgtgtgcattctgagttcaatttgccaggttgtgatggcggtagtttgtatgttaacaagcacgcttttcatacaccagcatatgatgtgagtgcattccgtgatctgaaacctttaccattcttttattattctactacaccatgtgaagtgcatggtaatggtagtatgatagaggatattgattatgtacccctaaaatctgcagtctgtattacagcttgtaatttagggggcgctgtttgtaggaagcatgctacagagtacagagagtatatggaagcatataatcttgtctctgcatcaggtttccgcctttggtgttataagacctttgatatttataatctctggtctacttttacaaaagttcaaggtttggaaaacattgcttttaatgttgttaaacaaggccattttattggtgttgagggtgaactacctgtagctgtagtcaatgataagatcttcaccaagagtggcgttaatgacatttgtatgtttgagaataaaaccactttgcctactaatatagcttttgaactctatgctaagcgtgctgtacgctcgcatcccgatttcaaattgctacacaatttacaagcagacatttgctacaagttcgtcctttgggattatgaacgtagcaatatttatggtactgctactattggtgtatgtaagtacactgatattgatgttaattcagctttgaatatatgttttgacatacgcgataatggttcattggagaagttcatgtctactcccaatgccatctttatttctgatagaaaaattaagaaatacccttgtatggtaggtcctgattatgcttacttcaatggtgctatcatccgtgatagtgatgttgttaaacaaccagtgaagttctacttgtataagaaagtcaataatgagtttattgatcctactgagtgtatttacactcagagtcgctcttgtagtgacttcctacccctgtctgacatggagaaagactttctatcttttgatagtgatgttttcattaagaagtatggcttggaaaactatgcttttgagcacgtagtctatggagacttctctcatactacgttaggcggtcttcacttgcttattggtttatacaagaagcaacaggaaggtcatattattatggaagaaatgctaaaaggtagctcaactattcataactattttattactgagactaacacagcggcttttaaggcggtgtgttctgttatagatttaaagcttgacgactttgttatgattttaaagagtcaagaccttggcgtagtatccaaggttgtcaaggttcctattgacttaacaatgattgagtttatgttatggtgtaaggatggacaggttcaaaccttctaccctcgactccaggcttctgcagattggaaacctggtcatgcaatgccatccctctttaaagttcaaaatgtaaaccttgaacgttgtgagcttgctaattacaagcaatctattcctatgcctcgcggtgtgcacatgaacatcgctaaatatatgcaattgtgccagtatttaaatacttgcacattagccgtgcctgccaatatgcgtgttatacattttggcgctggttctgataaaggtatcgctcctggtacatcagttttacgacagtggcttcctacagatgccattattatagataatgatttaaatgagttcgtgtcagatgctgacataactttatttggagattgtgtaactgtacgtgtcggccaacaagtggatcttgttatttccgacatgtatgatcctactactaagaatgtaacaggtagtaatgagtcaaaggctttattctttacttacctgtgtaacctcattaataataatcttgctcttggtgggtctgttgctattaaaataacagaacactcttggagcgttgaactttatgaacttatgggaaaatttgcttggtggactgttttctgcaccaatgcaaatgcatcctcatctgaaggattcctcttaggtattaattacttgggtactattaaagaaaatatagatggtggtgctatgcacgccaactatatattttggagaaattccactcctatgaatctgagtacttactcactttttgatttatccaagtttcaattaaaattaaaaggaacaccagttcttcaattaaaggagagtcaaattaacgaactcgtaatatctctcctgtcgcagggtaagttacttatccgtgacaatgatacactcagtgtttctactgatgttcttgttaacacctacagaaagttacgttgatgtagggccagattctgttaagtctgcttgtattgaggttgatatacaacagactttctttgataaaacttggcctaggccaattgatgtttctaaggctgacggtattatataccctcaaggccgtacatattctaacataactatcacttatcaaggtctttttccctatcagggagaccatggtgatatgtatgtttactctgcaggacatgctacaggcacaactccacaaaagttgtttgtagctaactattctcaggacgtcaaacagtttgctaatgggtttgtcgtccgtataggagcagctgccaattccactggcactgttattattagcccatctaccagcgctactatacgaaaaatttaccctgcttttatgctgggttcttcagttggtaatttctcagatggtaaaatgggccgcttcttcaatcatactctagttcttttgcccgatggatgtggcactttacttagagctttttattgtattctagagcctcgctctggaaatcattgtcctgctggcaattcctatacttcttttgccacttatcacactcctgcaacagattgttctgatggcaattacaatcgtaatgccagtctgaactcttttaaggagtattttaatttacgtaactgcacctttatgtacacttataacattaccgaagatgagattttagagtggtttggcattacacaaactgctcaaggtgttcacctcttctcatctcggtatgttgatttgtacggcggcaatatgtttcaatttgccaccttgcctgtttatgatactattaagtattattctatcattcctcacagtattcgttctatccaaagtgatagaaaagcttgggctgccttctacgtatataaacttcaaccgttaactttcctgttggatttttctgttgatggttatatacgcagagctatagactgtggttttaatgatttgtcacaactccactgctcatatgaatccttcgatgttgaatctggagtttattcagtttcgtctttcgaagcaaaaccttctggctcagttgtggaacaggctgaaggtgttgaatgtgatttttcacctcttctgtctggcacacctcctcaggtttataatttcaagcgtttggtttttaccaattgcaattataatcttaccaaattgctttcacttttttctgtgaatgattttacttgtagtcaaatatctccagcagcaattgctagcaactgttattcttcactgattttggattatttttcatacccacttagtatgaaatccgatctcagtgttagttctgctggtccaatatcccagtttaattataaacagtccttttctaatcccacatgtttgattttagcgactgttcctcataaccttactactattactaagcctcttaagtacagctatattaacaagtgctctcgtcttctttctgatgatcgtactgaagtacctcagttagtgaacgctaatcaatactcaccctgtgtatccattgtcccatccactgtgtgggaagacggtgattattataggaaacaactatctccacttgaaggtggtggctggcttgttgctagtggctcaactgttgccatgactgagcaattacagatgggctttggtattacagttcaatatggtacagacaccaatagtgtttgccccaagcttgaatttgctaatgacacaaaaattgcctctcaattaggcaattgcgtggaatattccctctatggtgtttcgggccgtggtgtttttcagaattgcacagctgtaggtgttcgacagcagcgctttgtttatgatgcgtaccagaatttagttggctattattctgatgatggcaactactactgtttgcgtgcttgtgttagtgttcctgtttctgtcatctatgataaagaaactaaaacccacgctactctatttggtagtgttgcatgtgaacacattttctctaccatgtctcaatactcccgttctacgcgatcaatgcttaaacggcgagattctacatatggtccccttcagacacctgttggttgtgtcctaggacttgttaattcctctttgttcgtagaggactgcaagttgcctcttggtcaatctctctgtgctcttcctgacacacctagtactctcacacctcgcagtgtgcgctctgttccaggtgaaatgcgcttggcatccattgcttttaatcatcctattcaggttgatcaacttaatagtagttattttaaattaagtatacctactaatttttcctttggtgtgactcaggagtacattcagacaaccattcagaaagttactgttgattgtaaacagtacgtttgcaatggtttccagaagtgtgagcaattactgcgcgagtatggccagttttgttccaaaataaaccgggctctccatggtgccaatttacgccaggatgattctgtacgtaatttgtttgcgagcgtgaaaagctctcaatcatctcctatcataccaggttttggaggtgactttaatttgacacttctagaacctgtttctatatctactggcagtcgtagtgcacgtagtgctattgaggatttgctatttgacaaagtcactatagctgatcctggttatatgcaaggttacgatgattgcatgcagcaaggtccagcatcagctcgtgatcttatttgtgctcaatatgtggctggttacaaagtattacctcctcttatggatgttaatatggaagccgcgtatacctcatctttgcttggcagcatagcaggtgttggctggactgctggcttatcctcctttgctgctattccatttgcacagagtatcttttataggttaaacggtgttggcattactcaacaggttctttcagagaaccaaaagcttattgccaataagtttaatcaggctctgggagctatgcaaacaggcttcactacaactaatgaagcttttcggaaggttcaggatgctgtgaacaacaatgcacaggctctatccaaattagctagcgagctatctaatacttttggtgctatttccgcctctattggagacatcatacaacgtcttgatgttctcgaacaggacgcccaaatagacagacttattaatggccgtttgacaacactaaatgcttttgttgcacagcagcttgttcgttccgaatcagctgctctttccgctcaattggctaaagataaagtcaatgagtgtgtcaaggcacaatccaagcgttctggattttgcggtcaaggcacacatatagtgtcctttgttgtaaatgcccctaatggcctttacttcatgcatgttggttattaccctagcaaccacattgaggttgtttctgcttatggtctttgcgatgcagctaaccctactaattgtatagcccctgttaatggctactttattaaaactaataacactaggattgttgatgagtggtcatatactggctcgtccttctatgcacctgagcccatcacctctcttaatactaagtatgttgcaccacaggtgacataccaaaacatttctactaacctccctcctcctcttctcggcaattccaccgggattgacttccaagatgagttggatgagtttttcaaaaatgttagcaccagtatacctaattttggttctctaacacagattaatactacattactcgatcttacctacgagatgttgtctcttcaacaagttgttaaagcccttaatgagtcttacatagaccttaaagagcttggcaattatacttattacaacaaatggccgtggtacatttggcttggtttcattgctgggcttgttgccttagctctatgcgtcttcttcatactgtgctgcactggttgtggcacaaactgtatgggaaaacttaagtgtaatcgttgttgtgatagatacgaggaatacgacctcgagccgcataaggttcatgttcactaattaacgaactatcaatgagagttcaaagaccacccactctcttgttagtgttctcactctctcttttggtcactgcattttcaaaacctctctatgtacctgagcattgtcagaattattctggttgcatgcttagggcttgtattaaaactgcccaagctgatacagctggtctttatacaaattttcgaattgacgtcccatctgcagaatcaactggtactcaatcagtttctgtcgatcgtgagtcaacttcaactcatgatggtcctaccgaacatgttactagtgtgaatctttttgacgttggttactcagttaattaacgaactctatggattacgtgtctctgcttaatcaaatttggcagaagtaccttaattcaccgtatactacttgtttgtatatccctaaacccacagctaagtatacacctttagttggcacttcattgcaccctgtgctgtggaactgtcagctatcctttgctggttatactgaatctgctgttaattctacaaaagctttggccaaacaggacgcagctcagcgaatcgcttggttgctacataaggatggaggaatccctgatggatgttccctctacctccggcactcaagtttattcgcgcaaagcgaggaagaggagtcattctccaactaagaaactgcgctacgttaagcgtagattttctcttctgcgccctgaagaccttagtgttattgtccaaccaacacactatgtcagggttacattttcagaccccaacatgtggtatctacgttcgggtcatcatttacactcagttcacaattggcttaaaccttatggcggccaacctgtttctgagtaccatattactctagctttgctaaatctcactgatgaagatttagctagagatttttcacccattgcgctctttttgcgcaatgtcagatttgagctacatgagttcgccttgctgcgcaaaactcttgttcttaatgcatcagagatctactgtgctaacatacatagatttaagcctgtgtatagagttaacacggcaatccctactattaaggattggcttctcgttcagggattttccctttaccatagtggcctccctttacatatgtcaatctctaaattgcatgcactggatgatgttactcgcaattacatcattacaatgccatgctttagaacttatcctcaacaaatgtttgttactcctttggccgtagatgttgtctccatacggtcttccaatcagggtaataaacaaattgttcattcttaccccattttacatcatccaggattttaacgaactatggctttctcggcgtctttatttaaacccgtccagctagtcccagtttctcctgcatttcatcgcattgagtctactgactctattgttttcacatacattcctgctagcggctatgtagctgctttagctgtcaatgtgtgtctcattcccctattattactgctacgtcaagatacttgtcgtcgcagcattatcagaactatggttctctatttccttgttctgtataactttttattagccattgtactagtcaatggtgtacattatccaactggaagttgcctgatagccttcttagttatcctcataatactttggtttgtagatagaattcgtttctgtctcatgctgaattcctacattccactgtttgacatgcgttctcactttattcgtgttagtacagtttcttctcatggtatggtccctgtcatacacaccaaaccattatttattagaaacttcgatcagcgttgcagctgttctcgttgtttttatttgcactcttccacttatatagagtgcacttatattagccgttttagtaagattagcctagtttctgtaactgacttctccttaaacggcaatgtttccactgttttcgtgcctgcaacgcgcgattcagttcctcttcacataatcgccccgagctcgcttatcgtttaagcagctctgcgctactatgggtcccgtgtagaggctaatccattagtctctctttggacatatggaaaacgaactatgttaccctttgtccaagaacgaatagggttgttcatagtaaactttttcatttttaccgtagtatgtgctataacactcttggtgtgtatggctttccttacggctactagattatgtgtgcaatgtatgacaggcttcaataccctgttagttcagcccgcattatacttgtataatactggacgttcagtctatgtaaaattccaggatagtaaaccccctctaccacctgacgagtgggtttaacgaactccttcataatgtctaatatgacgcaactcactgaggcgcagattattgccattattaaagactggaactttgcatggtccctgatctttctcttaattactatcgtactacagtatggatacccatcccgtagtatgactgtctatgtctttaaaatgtttgttttatggctcctatggccatcttccatggcgctatcaatatttagcgccatttatccaattgatctagcttcccagataatctctggcattgtagcagctgtttcagctatgatgtggatttcctactttgtgcagagtatccggctgtttatgagaactggatcatggtggtcattcaatcctgagactaattgccttttgaacgttccatttggtggtacaactgtcgtacgtccactcgtagaggactctaccagtgtaactgctgttgtaaccaatggccacctcaaaatggctggcatgcatttcggtgcttgtgactacgacagacttcctaatgaagtcaccgtggccaaacccaatgtgctgattgctttaaaaatggtgaagcggcaaagctacggaactaattccggcgttgccatttaccatagatataaggcaggtaattacaggagtccgcctattacggcggatattgaacttgcattgcttcgagcttaggctctttagtaagagtatcttaattgattttaacgaatctcaatttcattgttatggcatcccctgctgcacctcgtgctgtttcctttgccgataacaatgatataacaaatacaaacctgtctcgaggtagaggacgtaatccaaaaccacgagctgcaccaaataacactgtctcttggtacactgggcttacccaacacgggaaagtccctcttacctttccacctgggcagggtgtacctcttaatgccaattccaccccagcgcaaaatgctgggtattggcggagacaggacagaaaaattaataccgggaatggaattaagcaactggctcccaggtggtacttctactacactggaaccggacccgaagcagcactcccattccgggctgttaaggatggcatcgtttgggtccatgaacatggcgccactgatgctccttcaacttttgggacgcggaaccctaacaatgattcagctattgttacacaattcgcgcccggtactaagcttcctaaaaacttccacattgaggggactggaggcaatagtcaatcatcttcaagagcctctagcgtaagcagaaactcttccagatctagttcacaaggttcaagatcaggaaactctacccgcggcacttctccaggtccatctggaatcggagcagtaggaggtgatctactttaccttgatcttctgaacagactacaagcccttgagtctggcaaagtaaagcaatcgcagccaaaagtaatcactaagaaagatgctgctgctgctaaaaataagatgcgccacaagcgcacttccaccaaaagtttcaacatggtgcaagcttttggtcttcgcggaccaggagacctccagggaaactttggtgatcttcaattgaataaactcggcactgaggacccacgttggccccaaattgctgagcttgctcctacagccagtgcttttatgggtatgtcgcaatttaaacttacccatcagaacaatgatgatcatggcaaccctgtgtacttccttcggtacagtggagccattaaacttgacccaaagaatcccaactacaataagtggttggagcttcttgagcaaaatattgatgcctacaaaaccttccctaagaaggaaaagaaacaaaaggcaccaaaagaagaatcaacagaccaaatgtctgaacctcctaaggagcagcgtgtgcaaggtagcatcactcagcgcactcgcacccgtccaagtgttcagcctggtccaatgattgatgttaacactgattagtgtcactcaaagtaacaagatcgcggcaatcgtttgtgtttggtaaccccatctcaccatcgcttgtccactcttgcacagaatggaatcatgttgtaattacagtgcaataaggtaattataacccatttaattgatagctatgctttattaaagtgtgtagctgtagagagaatgttaaagactgtcacctctgcctgattgcaagtgaacagtgccccccgggaagagctctacagtgtgaaatgtaaataaaaatagctattattcaattagattaggctaattagatgatttgcaaaaaaaaaaaaaaaaa'"
            ]
          },
          "metadata": {
            "tags": []
          },
          "execution_count": 37
        }
      ]
    },
    {
      "cell_type": "code",
      "metadata": {
        "id": "MSWNO1K0Y2KO"
      },
      "source": [
        "base_tallies = []\n",
        "base_tallies.append(covid_dna .count('a'))\n",
        "base_tallies.append(covid_dna .count('g'))    \n",
        "base_tallies.append(covid_dna .count('c')) \n",
        "base_tallies.append(covid_dna .count('t'))"
      ],
      "execution_count": null,
      "outputs": []
    },
    {
      "cell_type": "code",
      "metadata": {
        "colab": {
          "base_uri": "https://localhost:8080/"
        },
        "id": "X9xNvryzY64V",
        "outputId": "13c1045f-683f-4a5d-d919-7a30da86bad6"
      },
      "source": [
        "base_tallies"
      ],
      "execution_count": null,
      "outputs": [
        {
          "output_type": "execute_result",
          "data": {
            "text/plain": [
              "[7905, 6303, 6093, 9822]"
            ]
          },
          "metadata": {
            "tags": []
          },
          "execution_count": 39
        }
      ]
    },
    {
      "cell_type": "code",
      "metadata": {
        "id": "4W-DweoxY9qD"
      },
      "source": [
        "base_tallies = np.array(base_tallies).astype(float)"
      ],
      "execution_count": null,
      "outputs": []
    },
    {
      "cell_type": "code",
      "metadata": {
        "colab": {
          "base_uri": "https://localhost:8080/"
        },
        "id": "68sGgJLgY_HM",
        "outputId": "280b5b36-429c-449b-9b94-1b1f15b82026"
      },
      "source": [
        "base_tallies"
      ],
      "execution_count": null,
      "outputs": [
        {
          "output_type": "execute_result",
          "data": {
            "text/plain": [
              "array([7905., 6303., 6093., 9822.])"
            ]
          },
          "metadata": {
            "tags": []
          },
          "execution_count": 41
        }
      ]
    },
    {
      "cell_type": "code",
      "metadata": {
        "id": "qyV5AZIyZCfM"
      },
      "source": [
        "sequence_length = float(len(covid_dna ))"
      ],
      "execution_count": null,
      "outputs": []
    },
    {
      "cell_type": "code",
      "metadata": {
        "colab": {
          "base_uri": "https://localhost:8080/"
        },
        "id": "8QMjxOb9ZG6l",
        "outputId": "e72264e6-4deb-408d-c5b8-75ebdc36678b"
      },
      "source": [
        "sequence_length"
      ],
      "execution_count": null,
      "outputs": [
        {
          "output_type": "execute_result",
          "data": {
            "text/plain": [
              "30123.0"
            ]
          },
          "metadata": {
            "tags": []
          },
          "execution_count": 44
        }
      ]
    },
    {
      "cell_type": "code",
      "metadata": {
        "id": "y1yiYT_gZKBs"
      },
      "source": [
        "probabilities = base_tallies /sequence_length"
      ],
      "execution_count": null,
      "outputs": []
    },
    {
      "cell_type": "code",
      "metadata": {
        "colab": {
          "base_uri": "https://localhost:8080/"
        },
        "id": "Z6hxHSggZM0k",
        "outputId": "0ba604fe-14f0-4cef-e175-31fb77a19e09"
      },
      "source": [
        "print(f'Sum of probs: {np.sum(probabilities)}')\n",
        "print(f'Probs       : {probabilities}')\n",
        "probabilities = probabilities/np.sum(probabilities)"
      ],
      "execution_count": null,
      "outputs": [
        {
          "output_type": "stream",
          "text": [
            "Sum of probs: 1.0\n",
            "Probs       : [0.26242406 0.20924211 0.20227069 0.32606314]\n"
          ],
          "name": "stdout"
        }
      ]
    },
    {
      "cell_type": "code",
      "metadata": {
        "colab": {
          "base_uri": "https://localhost:8080/"
        },
        "id": "FscA2vGyZQ4c",
        "outputId": "a680a100-7fab-424f-93aa-0833a5951202"
      },
      "source": [
        "print(f'Prob A: {probabilities[0]:0.3f}')\n",
        "print(f'Prob G: {probabilities[1]:0.3f}')\n",
        "print(f'Prob C: {probabilities[2]:0.3f}')\n",
        "print(f'Prob T: {probabilities[3]:0.3f}')"
      ],
      "execution_count": null,
      "outputs": [
        {
          "output_type": "stream",
          "text": [
            "Prob A: 0.262\n",
            "Prob G: 0.209\n",
            "Prob C: 0.202\n",
            "Prob T: 0.326\n"
          ],
          "name": "stdout"
        }
      ]
    },
    {
      "cell_type": "code",
      "metadata": {
        "id": "stJIMoVzZVH0"
      },
      "source": [
        "bases = ['a','g','c','t']\n",
        "\n",
        "\n",
        "output_sequence_zero = []\n",
        "for i in range(100): \n",
        "    output_sequence_zero.append(choice(bases,p=probabilities))"
      ],
      "execution_count": null,
      "outputs": []
    },
    {
      "cell_type": "code",
      "metadata": {
        "id": "_mKXsjQAZXG1"
      },
      "source": [
        "log2_probability_zero = 0"
      ],
      "execution_count": null,
      "outputs": []
    },
    {
      "cell_type": "code",
      "metadata": {
        "colab": {
          "base_uri": "https://localhost:8080/"
        },
        "id": "9S5mHinMZemM",
        "outputId": "735e39f0-56c6-4780-90c7-2031de6930b6"
      },
      "source": [
        "for base in covid_dna :\n",
        "    base_index = bases.index(base)\n",
        "    log2_probability_zero += np.log2(probabilities[base_index])\n",
        "\n",
        "print(f'Log2Prob for Zeroth Order: {log2_probability_zero}')"
      ],
      "execution_count": null,
      "outputs": [
        {
          "output_type": "stream",
          "text": [
            "Log2Prob for Zeroth Order: -59409.44863012953\n"
          ],
          "name": "stdout"
        }
      ]
    },
    {
      "cell_type": "code",
      "metadata": {
        "id": "TkjnSZzYaGnS"
      },
      "source": [
        "transition_probabilities = np.zeros(shape=(4,4))"
      ],
      "execution_count": null,
      "outputs": []
    },
    {
      "cell_type": "code",
      "metadata": {
        "id": "KucX67S9aNNr"
      },
      "source": [
        "base_patterns = np.array([\n",
        "['aa','at','ac','ag'],\n",
        "['ta','tt','tc','tg'],\n",
        "['ca','ct','cc','cg'],\n",
        "['ga','gt','gc','gg']\n",
        "])"
      ],
      "execution_count": null,
      "outputs": []
    },
    {
      "cell_type": "code",
      "metadata": {
        "colab": {
          "base_uri": "https://localhost:8080/"
        },
        "id": "fKyQLuTkaPkq",
        "outputId": "554a23c3-41c6-401d-eedd-504c14017ccd"
      },
      "source": [
        "print('First Order Count')\n",
        "for i in range(len(covid_dna) - 1):\n",
        "    if (covid_dna[i] + covid_dna[i+1]) in base_patterns:\n",
        "        x = np.where(base_patterns==(covid_dna[i]+covid_dna[i+1]))[0][0]\n",
        "        y = np.where(base_patterns==(covid_dna[i]+covid_dna[i+1]))[1][0]\n",
        "        transition_probabilities[x][y] += 1\n",
        "print(transition_probabilities)\n",
        "for row in transition_probabilities:\n",
        "    row /= np.sum(row)"
      ],
      "execution_count": null,
      "outputs": [
        {
          "output_type": "stream",
          "text": [
            "First Order Count\n",
            "[[2199. 2286. 1763. 1656.]\n",
            " [2307. 3111. 1699. 2705.]\n",
            " [1925. 2304. 1152.  712.]\n",
            " [1474. 2121. 1479. 1229.]]\n"
          ],
          "name": "stdout"
        }
      ]
    },
    {
      "cell_type": "code",
      "metadata": {
        "colab": {
          "base_uri": "https://localhost:8080/"
        },
        "id": "_Cr-brRZahNa",
        "outputId": "62d80b82-7d2e-45b4-fab2-816dea3e5a5c"
      },
      "source": [
        "print('Probability 1st')\n",
        "print(transition_probabilities)\n",
        "print(np.sum(transition_probabilities))\n",
        "sequence = covid_dna.casefold()\n",
        "\n",
        "print(f'Length of sequence:{len(sequence)}')"
      ],
      "execution_count": null,
      "outputs": [
        {
          "output_type": "stream",
          "text": [
            "Probability 1st\n",
            "[[0.27821356 0.28922065 0.22305162 0.20951417]\n",
            " [0.23488088 0.31673794 0.17297903 0.27540216]\n",
            " [0.31593632 0.37813885 0.18906942 0.11685541]\n",
            " [0.23385689 0.33650643 0.23465017 0.19498651]]\n",
            "4.0\n",
            "Length of sequence:30123\n"
          ],
          "name": "stdout"
        }
      ]
    },
    {
      "cell_type": "code",
      "metadata": {
        "id": "zHVQkEy4amOi"
      },
      "source": [
        "first_base = choice(bases,p=probabilities)\n",
        "output_sequence_first = [first_base]\n",
        "\n",
        "for i in range(100):\n",
        "    base_index = bases.index(output_sequence_first[-1])\n",
        "    output_sequence_first.append( choice(bases,p=transition_probabilities[base_index]) )"
      ],
      "execution_count": null,
      "outputs": []
    },
    {
      "cell_type": "code",
      "metadata": {
        "colab": {
          "base_uri": "https://localhost:8080/"
        },
        "id": "IU5FyH4Earpi",
        "outputId": "4b8f7f13-bb20-4f4d-8317-8b1d18141d99"
      },
      "source": [
        "log2_probability_first = 0\n",
        "\n",
        "for count,base in enumerate(covid_dna):\n",
        "    if count == 0:\n",
        "        log2_probability_first += np.log2(probabilities[bases.index(base)])\n",
        "    else:\n",
        "        index0 = bases.index(covid_dna[count-1])\n",
        "        index1 = bases.index(covid_dna[count])\n",
        "        log2_probability_first += np.log2(transition_probabilities[index0][index1])\n",
        "\n",
        "\n",
        "print(f'Log2Prob for First Order: {log2_probability_first}')"
      ],
      "execution_count": null,
      "outputs": [
        {
          "output_type": "stream",
          "text": [
            "Log2Prob for First Order: -62884.857831685\n"
          ],
          "name": "stdout"
        }
      ]
    },
    {
      "cell_type": "code",
      "metadata": {
        "id": "xxd5WVGTEti9"
      },
      "source": [
        "transition_probabilities_2 = np.zeros(shape=(4,4,4))\n",
        "\n",
        "base_patterns2 = np.array([\n",
        "[['aaa','aag','aac','aat' ],['aga','agg','agc','agt' ],['aca','acg','acc','act' ],['ata','atg','atc','att' ]],\n",
        "[['gaa','gag','gac','gat' ],['gga','ggg','ggc','ggt' ],['gca','gcg','gcc','gct' ],['gta','gtg','gtc','gtt' ]],\n",
        "[['caa','cag','cac','cat' ],['cga','cgg','cgc','cgt' ],['cca','ccg','ccc','cct' ],['cta','ctg','ctc','ctt' ]],\n",
        "[['taa','tag','tac','tat' ],['tga','tgg','tgc','tgt' ],['tca','tcg','tcc','tct' ],['tta','ttg','ttc','ttt' ]]\n",
        "])"
      ],
      "execution_count": null,
      "outputs": []
    },
    {
      "cell_type": "code",
      "metadata": {
        "colab": {
          "base_uri": "https://localhost:8080/"
        },
        "id": "Gqcx_m-zEtlc",
        "outputId": "a9aec470-a567-4fec-fa82-8f8e316b9f51"
      },
      "source": [
        "print(\" aaa = \",a.count('aaa'),\"\\t\",\" aga = \",a.count('aga'),\"\\t\",\" aca = \",a.count('aca'),\"\\t\",\" ata = \",a.count('ata'),\"\\n\")\n",
        "print(\" aag = \",a.count('aag'),\"\\t\",\" agg = \",a.count('agg'),\"\\t\",\" acg = \",a.count('acg'),\"\\t\",\" atg = \",a.count('atg'),\"\\n\")\n",
        "print(\" aac = \",a.count('aac'),\"\\t\",\" agc = \",a.count('agc'),\"\\t\",\" acc = \",a.count('acc'),\"\\t\",\" atc = \",a.count('atc'),\"\\n\")\n",
        "print(\" aat = \",a.count('aat'),\"\\t\",\" agt = \",a.count('agt'),\"\\t\",\" act = \",a.count('act'),\"\\t\",\" att = \",a.count('att'),\"\\n\")\n",
        "print(\" gaa = \",a.count('gaa'),\"\\t\",\" gga = \",a.count('gga'),\"\\t\",\" gca = \",a.count('gca'),\"\\t\",\" gta = \",a.count('gta'),\"\\n\")\n",
        "print(\" gag = \",a.count('gag'),\"\\t\",\" ggg = \",a.count('ggg'),\"\\t\",\" gcg = \",a.count('gcg'),\"\\t\",\" gtg = \",a.count('gtg'),\"\\n\")\n",
        "print(\" gac = \",a.count('gac'),\"\\t\",\" ggc = \",a.count('ggc'),\"\\t\",\" gcc = \",a.count('gcc'),\"\\t\",\" gtc = \",a.count('gtc'),\"\\n\")\n",
        "print(\" gat = \",a.count('gat'),\"\\t\",\" ggt = \",a.count('ggt'),\"\\t\",\" gct = \",a.count('gct'),\"\\t\",\" gtt = \",a.count('gtt'),\"\\n\")\n",
        "print(\" caa = \",a.count('caa'),\"\\t\",\" cga = \",a.count('cga'),\"\\t\",\" cca = \",a.count('cca'),\"\\t\",\" cta = \",a.count('cta'),\"\\n\")\n",
        "print(\" cag = \",a.count('cag'),\"\\t\",\" cgg = \",a.count('cgg'),\"\\t\",\" ccg = \",a.count('ccg'),\"\\t\",\" ctg = \",a.count('ctg'),\"\\n\")\n",
        "print(\" cac = \",a.count('cac'),\"\\t\",\" cgc = \",a.count('cgc'),\"\\t\",\" ccc = \",a.count('ccc'),\"\\t\",\" ctc = \",a.count('ctc'),\"\\n\")\n",
        "print(\" cat = \",a.count('cat'),\"\\t\",\" cgt = \",a.count('cgt'),\"\\t\",\" cct = \",a.count('cct'),\"\\t\",\" ctt = \",a.count('ctt'),\"\\n\")\n",
        "print(\" taa = \",a.count('taa'),\"\\t\",\" tga = \",a.count('tga'),\"\\t\",\" tca = \",a.count('tca'),\"\\t\",\" tta = \",a.count('tta'),\"\\n\")\n",
        "print(\" tag = \",a.count('tag'),\"\\t\",\" tgg = \",a.count('tgg'),\"\\t\",\" tcg = \",a.count('tcg'),\"\\t\",\" ttg = \",a.count('ttg'),\"\\n\")\n",
        "print(\" tac = \",a.count('tac'),\"\\t\",\" tgc = \",a.count('tgc'),\"\\t\",\" tcc = \",a.count('tcc'),\"\\t\",\" ttc = \",a.count('ttc'),\"\\n\")\n",
        "print(\" tat = \",a.count('tat'),\"\\t\",\" tgt = \",a.count('tgt'),\"\\t\",\" tct = \",a.count('tct'),\"\\t\",\" ttt = \",a.count('ttt'),\"\\n\")"
      ],
      "execution_count": null,
      "outputs": [
        {
          "output_type": "stream",
          "text": [
            " aaa =  360 \t  aga =  363 \t  aca =  458 \t  ata =  371 \n",
            "\n",
            " aag =  424 \t  agg =  271 \t  acg =  176 \t  atg =  563 \n",
            "\n",
            " aac =  344 \t  agc =  280 \t  acc =  277 \t  atc =  280 \n",
            "\n",
            " aat =  497 \t  agt =  410 \t  act =  512 \t  att =  604 \n",
            "\n",
            " gaa =  308 \t  gga =  223 \t  gca =  371 \t  gta =  358 \n",
            "\n",
            " gag =  226 \t  ggg =  118 \t  gcg =  160 \t  gtg =  406 \n",
            "\n",
            " gac =  263 \t  ggc =  270 \t  gcc =  192 \t  gtc =  270 \n",
            "\n",
            " gat =  378 \t  ggt =  370 \t  gct =  459 \t  gtt =  586 \n",
            "\n",
            " caa =  450 \t  cga =  111 \t  cca =  295 \t  cta =  445 \n",
            "\n",
            " cag =  362 \t  cgg =  103 \t  ccg =  93 \t  ctg =  479 \n",
            "\n",
            " cac =  337 \t  cgc =  137 \t  ccc =  147 \t  ctc =  334 \n",
            "\n",
            " cat =  403 \t  cgt =  220 \t  cct =  335 \t  ctt =  563 \n",
            "\n",
            " taa =  502 \t  tga =  499 \t  tca =  407 \t  tta =  629 \n",
            "\n",
            " tag =  323 \t  tgg =  472 \t  tcg =  152 \t  ttg =  674 \n",
            "\n",
            " tac =  444 \t  tgc =  502 \t  tcc =  262 \t  ttc =  446 \n",
            "\n",
            " tat =  551 \t  tgt =  664 \t  tct =  503 \t  ttt =  553 \n",
            "\n"
          ],
          "name": "stdout"
        }
      ]
    },
    {
      "cell_type": "code",
      "metadata": {
        "id": "WCfX2G85a62K"
      },
      "source": [
        "for i in range(len(sequence) - 2):\n",
        "    if (sequence[i] + sequence[i+1] + sequence[i+2]) in base_patterns2:\n",
        "        x = np.where(base_patterns2==(sequence[i]+sequence[i+1]+sequence[i+2]))[0][0]\n",
        "        y = np.where(base_patterns2==(sequence[i]+sequence[i+1]+sequence[i+2]))[1][0]\n",
        "        z = np.where(base_patterns2==(sequence[i]+sequence[i+1]+sequence[i+2]))[2][0]\n",
        "        transition_probabilities_2[x][y][z] += 1"
      ],
      "execution_count": null,
      "outputs": []
    },
    {
      "cell_type": "code",
      "metadata": {
        "colab": {
          "base_uri": "https://localhost:8080/"
        },
        "id": "KXet81rcEtoC",
        "outputId": "902b7c9d-4aaf-4ffc-8f3c-965192bdf510"
      },
      "source": [
        "for square in transition_probabilities_2:\n",
        "    for row in square:\n",
        "        row /= np.sum(row)\n",
        "print('trans prob 2')\n",
        "print(transition_probabilities_2)\n",
        "print(np.sum(transition_probabilities_2))"
      ],
      "execution_count": null,
      "outputs": [
        {
          "output_type": "stream",
          "text": [
            "trans prob 2\n",
            "[[[0.27343039 0.23748863 0.20473157 0.28434941]\n",
            "  [0.26871981 0.21437198 0.21014493 0.30676329]\n",
            "  [0.3255814  0.11514464 0.19909246 0.36018151]\n",
            "  [0.21084864 0.31233596 0.15004374 0.32677165]]\n",
            "\n",
            " [[0.26729986 0.20149254 0.21506106 0.31614654]\n",
            "  [0.22620016 0.13018714 0.26932465 0.37428804]\n",
            "  [0.31034483 0.13319811 0.16768087 0.3887762 ]\n",
            "  [0.21923621 0.26874116 0.16171617 0.35030646]]\n",
            "\n",
            " [[0.29818182 0.22441558 0.22285714 0.25454545]\n",
            "  [0.18679775 0.17977528 0.24719101 0.38623596]\n",
            "  [0.33420139 0.10763889 0.19270833 0.36545139]\n",
            "  [0.24609375 0.24869792 0.18706597 0.31814236]]\n",
            "\n",
            " [[0.27308192 0.17555267 0.24577373 0.30559168]\n",
            "  [0.22809612 0.21663586 0.23068392 0.3245841 ]\n",
            "  [0.29841083 0.11065333 0.19482048 0.39611536]\n",
            "  [0.25490196 0.27258116 0.18707811 0.28543877]]]\n",
            "16.0\n"
          ],
          "name": "stdout"
        }
      ]
    },
    {
      "cell_type": "code",
      "metadata": {
        "id": "JSozInq5EtqX"
      },
      "source": [
        "first_base  = choice(bases , p=probabilities)\n",
        "second_base = choice(bases , p=transition_probabilities[bases.index(first_base)])\n",
        "output_sequence_second = [first_base,second_base]"
      ],
      "execution_count": null,
      "outputs": []
    },
    {
      "cell_type": "code",
      "metadata": {
        "id": "4wd80wC6EttB"
      },
      "source": [
        "for i in range(100):\n",
        "    base_index_1 = bases.index(output_sequence_second[-1])\n",
        "    base_index_0 = bases.index(output_sequence_second[-2])\n",
        "    output_sequence_second.append( choice(bases,p=transition_probabilities_2[base_index_0][base_index_1]) )"
      ],
      "execution_count": null,
      "outputs": []
    },
    {
      "cell_type": "code",
      "metadata": {
        "colab": {
          "base_uri": "https://localhost:8080/"
        },
        "id": "_15rpcbMEtvV",
        "outputId": "4f8699d7-171f-4ea7-8b62-7da7cfeaac2c"
      },
      "source": [
        "log2_probability_second = 0\n",
        "\n",
        "\n",
        "for count,base in enumerate(sequence):\n",
        "    if   count == 0:\n",
        "        log2_probability_second += np.log2(probabilities[bases.index(base)])\n",
        "    elif count == 1:\n",
        "        base_index_0 = bases.index(sequence[count-1])\n",
        "        base_index_1 = bases.index(sequence[count])\n",
        "        log2_probability_second += np.log2(transition_probabilities[base_index_0][base_index_1])\n",
        "    else:\n",
        "        base_index_0 = bases.index(sequence[count-2])\n",
        "        base_index_1 = bases.index(sequence[count-1])\n",
        "        base_index_2 = bases.index(sequence[count])\n",
        "        log2_probability_second += np.log2(transition_probabilities_2[base_index_0][base_index_1][base_index_2])\n",
        "\n",
        "print(f'Log2Prob for Second Order: {log2_probability_second}')"
      ],
      "execution_count": null,
      "outputs": [
        {
          "output_type": "stream",
          "text": [
            "Log2Prob for Second Order: -58682.12560247032\n"
          ],
          "name": "stdout"
        }
      ]
    },
    {
      "cell_type": "code",
      "metadata": {
        "id": "XJiOoI0nbJaC"
      },
      "source": [
        "states = ['A','G','C','T']\n",
        "\n",
        "state_transition_probabilities = np.array([\n",
        "    [0.4,0.4,0.1,0.1],\n",
        "    [0.1,0.4,0.4,0.1],\n",
        "    [0.1,0.1,0.4,0.4],\n",
        "    [0.4,0.1,0.1,0.4]\n",
        "])\n",
        "\n",
        "state_emission_probabilities = np.array([\n",
        "    [0.4,0.2,0.2,0.2],\n",
        "    [0.2,0.4,0.2,0.2],\n",
        "    [0.2,0.2,0.4,0.2],\n",
        "    [0.2,0.2,0.2,0.4]\n",
        "])\n",
        "\n",
        "starting_state = choice(states)\n",
        "state_sequence_hidden  = [starting_state]\n",
        "output_sequence_hidden = [choice(bases,p=state_emission_probabilities[states.index(starting_state)]) ]"
      ],
      "execution_count": null,
      "outputs": []
    },
    {
      "cell_type": "code",
      "metadata": {
        "id": "w2iXhNokbMTJ"
      },
      "source": [
        "for i in range(len(sequence)-1):\n",
        "    state_index = states.index(state_sequence_hidden[-1])\n",
        "    new_state   = choice(states,p=state_transition_probabilities[state_index])\n",
        "    state_sequence_hidden.append(new_state)\n",
        "    new_output  = choice(bases,p=state_emission_probabilities[states.index(new_state)])\n",
        "    output_sequence_hidden.append(new_output)"
      ],
      "execution_count": null,
      "outputs": []
    },
    {
      "cell_type": "code",
      "metadata": {
        "id": "x-K6Kb88Etyk"
      },
      "source": [
        "log_2_emission_probabilities   = np.log2(state_emission_probabilities)\n",
        "log_2_transition_probabilities = np.log2(state_transition_probabilities) \n",
        "current_f  = np.array([0,0,0,0])\n",
        "previous_f = np.array([0,-10000000,-10000000,-10000000])"
      ],
      "execution_count": null,
      "outputs": []
    },
    {
      "cell_type": "code",
      "metadata": {
        "colab": {
          "base_uri": "https://localhost:8080/"
        },
        "id": "I0lmGL9DEt1E",
        "outputId": "c372ef99-6d7b-4a95-cd89-737f4aac9265"
      },
      "source": [
        "for base_count,base in enumerate(sequence):\n",
        "    for current_state_count in range(4):\n",
        "        emission_probability = log_2_emission_probabilities[current_state_count][bases.index(base)]\n",
        "        b_array = np.array([0,0,0,0])\n",
        "        for previous_state_count in range(4):\n",
        "            b_array[previous_state_count] = previous_f[previous_state_count] + log_2_transition_probabilities[previous_state_count][current_state_count]\n",
        "        b = np.max(b_array)\n",
        "        term = 0\n",
        "        for previous_state_count in range(4):\n",
        "            term += 2**(previous_f[previous_state_count] + log_2_transition_probabilities[previous_state_count][current_state_count] - b) \n",
        "        current_f[current_state_count] = emission_probability + b + np.log2(term)\n",
        "\n",
        "    if base_count != len(sequence)-1:\n",
        "        previous_f = current_f\n",
        "\n",
        "sequence_probability = np.sum(current_f)\n",
        "\n",
        "print(f'Sequence Log2 Probability is: {sequence_probability}')"
      ],
      "execution_count": null,
      "outputs": [
        {
          "output_type": "stream",
          "text": [
            "Sequence Log2 Probability is: -256693\n"
          ],
          "name": "stdout"
        }
      ]
    },
    {
      "cell_type": "code",
      "metadata": {
        "colab": {
          "base_uri": "https://localhost:8080/"
        },
        "id": "01KPe4Bsbbup",
        "outputId": "ac6834d8-837e-426b-f861-9409a3298404"
      },
      "source": [
        "pip install hmmlearn"
      ],
      "execution_count": null,
      "outputs": [
        {
          "output_type": "stream",
          "text": [
            "Collecting hmmlearn\n",
            "\u001b[?25l  Downloading https://files.pythonhosted.org/packages/b3/49/9e9a89cee24b26ef6afec5abbd5eb9cf14632855f32b999389873ecb1b4e/hmmlearn-0.2.4-cp36-cp36m-manylinux1_x86_64.whl (361kB)\n",
            "\r\u001b[K     |█                               | 10kB 12.6MB/s eta 0:00:01\r\u001b[K     |█▉                              | 20kB 15.7MB/s eta 0:00:01\r\u001b[K     |██▊                             | 30kB 19.2MB/s eta 0:00:01\r\u001b[K     |███▋                            | 40kB 21.5MB/s eta 0:00:01\r\u001b[K     |████▌                           | 51kB 19.5MB/s eta 0:00:01\r\u001b[K     |█████▍                          | 61kB 19.7MB/s eta 0:00:01\r\u001b[K     |██████▍                         | 71kB 14.7MB/s eta 0:00:01\r\u001b[K     |███████▎                        | 81kB 12.8MB/s eta 0:00:01\r\u001b[K     |████████▏                       | 92kB 13.7MB/s eta 0:00:01\r\u001b[K     |█████████                       | 102kB 12.7MB/s eta 0:00:01\r\u001b[K     |██████████                      | 112kB 12.7MB/s eta 0:00:01\r\u001b[K     |██████████▉                     | 122kB 12.7MB/s eta 0:00:01\r\u001b[K     |███████████▉                    | 133kB 12.7MB/s eta 0:00:01\r\u001b[K     |████████████▊                   | 143kB 12.7MB/s eta 0:00:01\r\u001b[K     |█████████████▋                  | 153kB 12.7MB/s eta 0:00:01\r\u001b[K     |██████████████▌                 | 163kB 12.7MB/s eta 0:00:01\r\u001b[K     |███████████████▍                | 174kB 12.7MB/s eta 0:00:01\r\u001b[K     |████████████████▎               | 184kB 12.7MB/s eta 0:00:01\r\u001b[K     |█████████████████▎              | 194kB 12.7MB/s eta 0:00:01\r\u001b[K     |██████████████████▏             | 204kB 12.7MB/s eta 0:00:01\r\u001b[K     |███████████████████             | 215kB 12.7MB/s eta 0:00:01\r\u001b[K     |████████████████████            | 225kB 12.7MB/s eta 0:00:01\r\u001b[K     |████████████████████▉           | 235kB 12.7MB/s eta 0:00:01\r\u001b[K     |█████████████████████▊          | 245kB 12.7MB/s eta 0:00:01\r\u001b[K     |██████████████████████▊         | 256kB 12.7MB/s eta 0:00:01\r\u001b[K     |███████████████████████▋        | 266kB 12.7MB/s eta 0:00:01\r\u001b[K     |████████████████████████▌       | 276kB 12.7MB/s eta 0:00:01\r\u001b[K     |█████████████████████████▍      | 286kB 12.7MB/s eta 0:00:01\r\u001b[K     |██████████████████████████▎     | 296kB 12.7MB/s eta 0:00:01\r\u001b[K     |███████████████████████████▏    | 307kB 12.7MB/s eta 0:00:01\r\u001b[K     |████████████████████████████    | 317kB 12.7MB/s eta 0:00:01\r\u001b[K     |█████████████████████████████   | 327kB 12.7MB/s eta 0:00:01\r\u001b[K     |██████████████████████████████  | 337kB 12.7MB/s eta 0:00:01\r\u001b[K     |██████████████████████████████▉ | 348kB 12.7MB/s eta 0:00:01\r\u001b[K     |███████████████████████████████▊| 358kB 12.7MB/s eta 0:00:01\r\u001b[K     |████████████████████████████████| 368kB 12.7MB/s \n",
            "\u001b[?25hRequirement already satisfied: scipy>=0.19 in /usr/local/lib/python3.6/dist-packages (from hmmlearn) (1.4.1)\n",
            "Requirement already satisfied: scikit-learn>=0.16 in /usr/local/lib/python3.6/dist-packages (from hmmlearn) (0.22.2.post1)\n",
            "Requirement already satisfied: numpy>=1.10 in /usr/local/lib/python3.6/dist-packages (from hmmlearn) (1.18.5)\n",
            "Requirement already satisfied: joblib>=0.11 in /usr/local/lib/python3.6/dist-packages (from scikit-learn>=0.16->hmmlearn) (0.17.0)\n",
            "Installing collected packages: hmmlearn\n",
            "Successfully installed hmmlearn-0.2.4\n"
          ],
          "name": "stdout"
        }
      ]
    },
    {
      "cell_type": "code",
      "metadata": {
        "colab": {
          "base_uri": "https://localhost:8080/"
        },
        "id": "gjWYSIEtbVKq",
        "outputId": "dd2c9d7a-e855-4d81-9e00-521837d5ce4e"
      },
      "source": [
        "from hmmlearn import hmm\n",
        "model = hmm.MultinomialHMM(n_components=len(states))\n",
        "model.startprob_ = np.array([0.3, 0.4, 0.2, 0.1]) #self-defined\n",
        "\n",
        "model.transmat_ = state_transition_probabilities\n",
        "model.emissionprob_ = state_emission_probabilities\n",
        "\n",
        "# Predict the optimal sequence of internal hidden state\n",
        "X = np.atleast_2d([3,4,5,6,7]).T\n",
        "model.fit(X)\n",
        "state_sequence = model.predict(X)\n",
        "prob_next_step = model.transmat_[state_sequence[-1], :]\n",
        "\n",
        "print(prob_next_step)\n",
        "print(model.decode(X))\n",
        "\n",
        "\n",
        "#print(f'Running time: {end} seconds')\n",
        "\n",
        "current, peak = list(map(lambda x: int(x/2**20), tracemalloc.get_traced_memory()))\n",
        "tracemalloc.stop()\n",
        "print(f\"Memory used {current:0.2f}MB, {peak:0.2f}MB\")"
      ],
      "execution_count": null,
      "outputs": [
        {
          "output_type": "stream",
          "text": [
            "Even though the 'startprob_' attribute is set, it will be overwritten during initialization because 'init_params' contains 's'\n",
            "Even though the 'transmat_' attribute is set, it will be overwritten during initialization because 'init_params' contains 't'\n",
            "Fitting a model with 43 free scalar parameters with only 5 data points will result in a degenerate solution.\n"
          ],
          "name": "stderr"
        },
        {
          "output_type": "stream",
          "text": [
            "[1.38927511e-35 1.70227057e-33 6.20529157e-26 1.00000000e+00]\n",
            "(-2.2139763288123318, array([0, 2, 3, 1, 2]))\n",
            "Memory used 156.00MB, 256.00MB\n"
          ],
          "name": "stdout"
        }
      ]
    },
    {
      "cell_type": "code",
      "metadata": {
        "id": "ZKK51rIubrVU"
      },
      "source": [
        "states = ['A','G','C','T','O']\n",
        "\n",
        "state_transition_probabilities = np.array([\n",
        "    [0.5   , 0.125 , 0.125 , 0.125 , 0.125],\n",
        "    [0.125 , 0.5   , 0.125 , 0.125 , 0.125],\n",
        "    [0.125 , 0.125 , 0.5   , 0.125 , 0.125],\n",
        "    [0.125 , 0.125 , 0.125 , 0.5   , 0.125],\n",
        "    [0.05  , 0.05  , 0.05  , 0.05  , 0.8]\n",
        "])\n",
        "\n",
        "state_emission_probabilities = np.array([\n",
        "    [0.5   , 0.166 , 0.167 , 0.167],\n",
        "    [0.166 , 0.5   , 0.167 , 0.167],\n",
        "    [0.167 , 0.166 , 0.5   , 0.167],\n",
        "    [0.167 , 0.167 , 0.166 , 0.5  ],\n",
        "    [probabilities[0],probabilities[1],probabilities[2],probabilities[3]]\n",
        "])"
      ],
      "execution_count": null,
      "outputs": []
    },
    {
      "cell_type": "code",
      "metadata": {
        "colab": {
          "base_uri": "https://localhost:8080/"
        },
        "id": "9nv1MjMnbsWK",
        "outputId": "688e2819-3d53-4877-96d7-dd89286f2c0f"
      },
      "source": [
        "from hmmlearn import hmm\n",
        "model = hmm.MultinomialHMM(n_components=len(states))\n",
        "model.startprob_ = np.array([0.3, 0.4, 0.2, 0.1]) #self-defined\n",
        "\n",
        "model.transmat_ = state_transition_probabilities\n",
        "model.emissionprob_ = state_emission_probabilities\n",
        "\n",
        "# Predict the optimal sequence of internal hidden state\n",
        "X = np.atleast_2d([3,4,5,6,7]).T\n",
        "model.fit(X)\n",
        "state_sequence = model.predict(X)\n",
        "prob_next_step = model.transmat_[state_sequence[-1], :]\n",
        "\n",
        "print(prob_next_step)\n",
        "print(model.decode(X))"
      ],
      "execution_count": null,
      "outputs": [
        {
          "output_type": "stream",
          "text": [
            "Even though the 'startprob_' attribute is set, it will be overwritten during initialization because 'init_params' contains 's'\n",
            "Even though the 'transmat_' attribute is set, it will be overwritten during initialization because 'init_params' contains 't'\n",
            "Fitting a model with 59 free scalar parameters with only 5 data points will result in a degenerate solution.\n"
          ],
          "name": "stderr"
        },
        {
          "output_type": "stream",
          "text": [
            "[1.00000000e+000 2.78795770e-200 6.83952779e-146 4.74264572e-165\n",
            " 8.40195471e-051]\n",
            "(-7.323024089429148e-09, array([2, 4, 1, 0, 3]))\n"
          ],
          "name": "stdout"
        }
      ]
    },
    {
      "cell_type": "code",
      "metadata": {
        "colab": {
          "base_uri": "https://localhost:8080/"
        },
        "id": "ZaJlGghSbvtJ",
        "outputId": "d0517929-bc71-404a-8f6b-9e935921db15"
      },
      "source": [
        "from hmmlearn import hmm\n",
        "model = hmm.GaussianHMM(n_components=len(states))\n",
        "model.startprob_ = np.array([0.3, 0.4, 0.2, 0.1]) #self-defined\n",
        "\n",
        "model.transmat_ = state_transition_probabilities\n",
        "model.emissionprob_ = state_emission_probabilities\n",
        "\n",
        "# Predict the optimal sequence of internal hidden state\n",
        "X = np.atleast_2d([3,4,5,6,7]).T\n",
        "model.fit(X)\n",
        "state_sequence = model.predict(X)\n",
        "prob_next_step = model.transmat_[state_sequence[-1], :]\n",
        "\n",
        "print(prob_next_step)\n",
        "print(model.decode(X))"
      ],
      "execution_count": null,
      "outputs": [
        {
          "output_type": "stream",
          "text": [
            "Even though the 'startprob_' attribute is set, it will be overwritten during initialization because 'init_params' contains 's'\n",
            "Even though the 'transmat_' attribute is set, it will be overwritten during initialization because 'init_params' contains 't'\n",
            "Fitting a model with 34 free scalar parameters with only 5 data points will result in a degenerate solution.\n"
          ],
          "name": "stderr"
        },
        {
          "output_type": "stream",
          "text": [
            "[0.00000000e+000 1.56947493e-052 1.16246445e-195 1.00000000e+000\n",
            " 0.00000000e+000]\n",
            "(6.918232798946864, array([4, 0, 2, 1, 3]))\n"
          ],
          "name": "stdout"
        }
      ]
    },
    {
      "cell_type": "code",
      "metadata": {
        "colab": {
          "base_uri": "https://localhost:8080/"
        },
        "id": "kv9ErJKdbv0P",
        "outputId": "e1a7bb45-8fa4-4f84-b4dd-46a5006ccc3c"
      },
      "source": [
        "\n",
        "ai=0\n",
        "ti=0\n",
        "ci=0\n",
        "gi=0\n",
        "for count in range(len(sequence)):\n",
        "    if sequence[count] == \"a\":\n",
        "        ai+=1\n",
        "    elif sequence[count] == \"t\":\n",
        "        ti+=1\n",
        "    elif sequence[count] == \"c\":\n",
        "        ci+=1\n",
        "    else:\n",
        "        gi+=1\n",
        "\n",
        "print(ai,ti,ci,gi)"
      ],
      "execution_count": null,
      "outputs": [
        {
          "output_type": "stream",
          "text": [
            "7905 9822 6093 6303\n"
          ],
          "name": "stdout"
        }
      ]
    },
    {
      "cell_type": "code",
      "metadata": {
        "id": "mMLdS2w4b5fQ"
      },
      "source": [
        "s = ['a', 't','c','g']\n",
        "order1 = {}\n",
        "for i in s:\n",
        "    for j in s:\n",
        "        order1[i+j]=0\n",
        "for i in range(len(sequence)-1):\n",
        "    i1 = sequence[i]\n",
        "    i2 = sequence[i+1]\n",
        "    order1[i1+i2]+=1"
      ],
      "execution_count": null,
      "outputs": []
    },
    {
      "cell_type": "code",
      "metadata": {
        "colab": {
          "base_uri": "https://localhost:8080/"
        },
        "id": "vNj-be66b80T",
        "outputId": "83f97432-63bc-405f-e998-37eade1da521"
      },
      "source": [
        "\n",
        "order1"
      ],
      "execution_count": null,
      "outputs": [
        {
          "output_type": "execute_result",
          "data": {
            "text/plain": [
              "{'aa': 2199,\n",
              " 'ac': 1763,\n",
              " 'ag': 1656,\n",
              " 'at': 2286,\n",
              " 'ca': 1925,\n",
              " 'cc': 1152,\n",
              " 'cg': 712,\n",
              " 'ct': 2304,\n",
              " 'ga': 1474,\n",
              " 'gc': 1479,\n",
              " 'gg': 1229,\n",
              " 'gt': 2121,\n",
              " 'ta': 2307,\n",
              " 'tc': 1699,\n",
              " 'tg': 2705,\n",
              " 'tt': 3111}"
            ]
          },
          "metadata": {
            "tags": []
          },
          "execution_count": 78
        }
      ]
    },
    {
      "cell_type": "code",
      "metadata": {
        "id": "5RpiguZ5cBQ9"
      },
      "source": [
        "order2 = {}\n",
        "for i in s:\n",
        "    for j in s:\n",
        "        for k in s:\n",
        "            order2[i+j+k]=0\n",
        "for i in range(len(sequence) - 2):\n",
        "    i1 = sequence[i]\n",
        "    i2 = sequence[i+1]\n",
        "    i3 = sequence[i+2]\n",
        "    order2[i1+i2+i3]+=1"
      ],
      "execution_count": null,
      "outputs": []
    },
    {
      "cell_type": "code",
      "metadata": {
        "colab": {
          "base_uri": "https://localhost:8080/"
        },
        "id": "YZWYQWYLcEvx",
        "outputId": "adcebb05-ded9-4084-e7d7-81e24be7b75e"
      },
      "source": [
        "order2"
      ],
      "execution_count": null,
      "outputs": [
        {
          "output_type": "execute_result",
          "data": {
            "text/plain": [
              "{'aaa': 601,\n",
              " 'aac': 450,\n",
              " 'aag': 522,\n",
              " 'aat': 625,\n",
              " 'aca': 574,\n",
              " 'acc': 351,\n",
              " 'acg': 203,\n",
              " 'act': 635,\n",
              " 'aga': 445,\n",
              " 'agc': 348,\n",
              " 'agg': 355,\n",
              " 'agt': 508,\n",
              " 'ata': 482,\n",
              " 'atc': 343,\n",
              " 'atg': 714,\n",
              " 'att': 747,\n",
              " 'caa': 574,\n",
              " 'cac': 429,\n",
              " 'cag': 432,\n",
              " 'cat': 490,\n",
              " 'cca': 385,\n",
              " 'ccc': 222,\n",
              " 'ccg': 124,\n",
              " 'cct': 421,\n",
              " 'cga': 133,\n",
              " 'cgc': 176,\n",
              " 'cgg': 128,\n",
              " 'cgt': 275,\n",
              " 'cta': 567,\n",
              " 'ctc': 431,\n",
              " 'ctg': 573,\n",
              " 'ctt': 733,\n",
              " 'gaa': 394,\n",
              " 'gac': 317,\n",
              " 'gag': 297,\n",
              " 'gat': 466,\n",
              " 'gca': 459,\n",
              " 'gcc': 248,\n",
              " 'gcg': 197,\n",
              " 'gct': 575,\n",
              " 'gga': 278,\n",
              " 'ggc': 331,\n",
              " 'ggg': 160,\n",
              " 'ggt': 460,\n",
              " 'gta': 465,\n",
              " 'gtc': 343,\n",
              " 'gtg': 570,\n",
              " 'gtt': 743,\n",
              " 'taa': 630,\n",
              " 'tac': 567,\n",
              " 'tag': 405,\n",
              " 'tat': 705,\n",
              " 'tca': 507,\n",
              " 'tcc': 331,\n",
              " 'tcg': 188,\n",
              " 'tct': 673,\n",
              " 'tga': 617,\n",
              " 'tgc': 624,\n",
              " 'tgg': 586,\n",
              " 'tgt': 878,\n",
              " 'tta': 793,\n",
              " 'ttc': 582,\n",
              " 'ttg': 848,\n",
              " 'ttt': 888}"
            ]
          },
          "metadata": {
            "tags": []
          },
          "execution_count": 80
        }
      ]
    }
  ]
}